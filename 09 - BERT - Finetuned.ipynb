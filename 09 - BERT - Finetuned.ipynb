{
 "cells": [
  {
   "cell_type": "markdown",
   "id": "ec317dad-e2f0-4d1a-9fd9-ab25ca0e4bfc",
   "metadata": {},
   "source": [
    "<h1>Finetuning BERT model<h1>\n",
    "    <h5>In this notebook, we classify our tweets by finetuning pre-trained BERT model with our tweet data<h5>"
   ]
  },
  {
   "cell_type": "code",
   "execution_count": 1,
   "id": "81b96fff-78a5-418b-8faf-b96c2a591a17",
   "metadata": {
    "tags": []
   },
   "outputs": [
    {
     "name": "stderr",
     "output_type": "stream",
     "text": [
      "2023-08-14 12:52:51.539488: I tensorflow/core/platform/cpu_feature_guard.cc:182] This TensorFlow binary is optimized to use available CPU instructions in performance-critical operations.\n",
      "To enable the following instructions: AVX2 FMA, in other operations, rebuild TensorFlow with the appropriate compiler flags.\n"
     ]
    }
   ],
   "source": [
    "#importing libraries\n",
    "import pandas as pd\n",
    "import dill\n",
    "import numpy as np\n",
    "from sklearn import model_selection\n",
    "from sklearn.model_selection import train_test_split\n",
    "import matplotlib.pyplot as plt\n",
    "import transformers\n",
    "from datasets import load_dataset, Dataset\n",
    "from transformers import AutoTokenizer, DataCollatorWithPadding\n",
    "from transformers import TFAutoModelForSequenceClassification\n",
    "from tensorflow.keras.optimizers import Adam\n",
    "from sklearn import metrics"
   ]
  },
  {
   "cell_type": "code",
   "execution_count": 13,
   "id": "7ae8bcdd-f4e4-4ee5-9b8a-329666800e17",
   "metadata": {
    "tags": []
   },
   "outputs": [],
   "source": [
    "#helper function to generate performance report\n",
    "def performance(y_true,y_predict,y_proba=[]):\n",
    "    TP = confusion_matrix(y_true,y_predict)[0,0]\n",
    "    FP = confusion_matrix(y_true,y_predict)[0,1]\n",
    "    TN = confusion_matrix(y_true,y_predict)[1,1]\n",
    "    FN = confusion_matrix(y_true,y_predict)[1,0]\n",
    "    TN, FP, FN, TP = confusion_matrix(y_true,y_predict).ravel()\n",
    "    print(f\"Accuracy: {round(((TP+TN)/(TP+TN+FP+FN))*100,3)}%\")\n",
    "    precision = round((TP/(TP+ FP))*100,3)\n",
    "    recall = round((TP/(TP+ FN))*100,3)\n",
    "    print(confusion_matrix(y_true,y_predict,labels=[1,0]).ravel())\n",
    "    print(f\"TP: {TP}\")\n",
    "    print(f\"FP: {FP}\")\n",
    "    print(f\"TN: {TN}\")\n",
    "    print(f\"FN: {FN}\")\n",
    "    print(f\"Sensitivity: {round((TP/(TP+ FN))*100,3)}%\")\n",
    "    print(f\"Specificity: {round((TN/(TN + FP))*100,3)}%\")\n",
    "    print(f\"Precision: {precision}%\")\n",
    "    print(f\"Recall: {recall}%\")\n",
    "    print(f\"f1: {round(((2*precision*recall)/(precision+recall)),3)}%\")\n",
    "    cm_display = metrics.ConfusionMatrixDisplay(confusion_matrix(y_true,y_predict,labels=[1,0]), display_labels=[1,0])\n",
    "    cm_display.plot()\n",
    "    plt.show()\n",
    "    if (y_proba!=[]):\n",
    "        false_positive_rate, true_positive_rate, thresholds = metrics.roc_curve(y_true,y_proba)\n",
    "        print(thresholds)\n",
    "        area = metrics.auc(false_positive_rate, true_positive_rate)\n",
    "        plt.figure()\n",
    "        plt.plot(false_positive_rate, true_positive_rate, color='green', lw=2, label=f'ROC curve (Area Under Curve = {area:.2f})')\n",
    "        plt.plot([0, 1], [0, 1], color='blue', lw=2, linestyle='--')\n",
    "        plt.xlim([0.0, 1.0])\n",
    "        plt.ylim([0.0, 1.05])\n",
    "        plt.xlabel('False Positive Rate (FPR)')\n",
    "        plt.ylabel('True Positive Rate (TPR)')\n",
    "        plt.title('Receiver Operating Characteristic (ROC) Curve')\n",
    "        plt.legend(loc=\"lower right\")\n",
    "        plt.show()"
   ]
  },
  {
   "cell_type": "code",
   "execution_count": 16,
   "id": "515d977f-c526-40dc-8f70-8b69ca85a1c9",
   "metadata": {
    "tags": []
   },
   "outputs": [],
   "source": [
    "#load raw tweets\n",
    "train_df = pd.read_pickle('../train_df.pkl')\n",
    "test_df = pd.read_pickle('../test_df.pkl')"
   ]
  },
  {
   "cell_type": "code",
   "execution_count": 2,
   "id": "d3f65a89-dd21-4955-ba1a-1cc307352187",
   "metadata": {
    "tags": []
   },
   "outputs": [],
   "source": [
    "#load cleaned tweets\n",
    "train_df_cleaned = pd.read_pickle('./train_df_cleaned.pkl')\n",
    "test_df_cleaned = pd.read_pickle('./test_df_cleaned.pkl')"
   ]
  },
  {
   "cell_type": "code",
   "execution_count": 17,
   "id": "f0570ce3-291e-466f-a38c-4d49261e8487",
   "metadata": {
    "tags": []
   },
   "outputs": [],
   "source": [
    "#convert pandas dataframe into a dataset dictionary for ease of tokenization\n",
    "train_df = Dataset.from_pandas(train_df)\n",
    "test_df = Dataset.from_pandas(test_df)"
   ]
  },
  {
   "cell_type": "code",
   "execution_count": 3,
   "id": "d3c878e6-7354-48a4-9c43-f1d4781aac39",
   "metadata": {
    "tags": []
   },
   "outputs": [],
   "source": [
    "#convert pandas dataframe into a dataset dictionary for ease of tokenization\n",
    "train_df_cleaned = Dataset.from_pandas(train_df_cleaned)\n",
    "test_df_cleaned = Dataset.from_pandas(test_df_cleaned)"
   ]
  },
  {
   "cell_type": "code",
   "execution_count": 8,
   "id": "6c53b642-6187-43e5-8ae0-e9357f7ac3ff",
   "metadata": {
    "tags": []
   },
   "outputs": [
    {
     "data": {
      "text/plain": [
       "Dataset({\n",
       "    features: ['level_0', 'index', 'author_id', 'geo', 'tweetid', 'lang', 'like_count', 'quote_count', 'reply_count', 'retweet_count', 'tweet_original', 'context', 'sensitive', 'created_at', 'ccs_score', 'rowid', 'relevant_manualscore', 'related_score_based', 'tweet_preprocessed', 'tweet_tokenized_original', 'tweet_tokenized_preprocessed', 'tweet_word2vec_original', 'tweet_word2vec_preprocessed', 'context_domain_name', 'related_manual', 'context_word2vec'],\n",
       "    num_rows: 2000\n",
       "})"
      ]
     },
     "execution_count": 8,
     "metadata": {},
     "output_type": "execute_result"
    }
   ],
   "source": [
    "train_df"
   ]
  },
  {
   "cell_type": "markdown",
   "id": "4920ca7b-704e-4ab3-9b64-239770bd02c5",
   "metadata": {
    "tags": []
   },
   "source": [
    "<h3>BERT<h3>\n",
    "    <h5>First let us try with the raw tweets<h5>"
   ]
  },
  {
   "cell_type": "code",
   "execution_count": 24,
   "id": "70a8b338-788b-4dcb-afd7-58c5cc31c780",
   "metadata": {
    "tags": []
   },
   "outputs": [],
   "source": [
    "#initialise bert tokenizer instance\n",
    "tokenizer_bert = AutoTokenizer.from_pretrained(\"bert-base-uncased\")"
   ]
  },
  {
   "cell_type": "code",
   "execution_count": 25,
   "id": "6bcb949f-84ab-4b04-9ed6-a33e28fdfcef",
   "metadata": {
    "tags": []
   },
   "outputs": [],
   "source": [
    "#tokenize train and test datasets with bert tokenizer\n",
    "tokenized_bert_train_data = tokenizer_bert(train_df[\"tweet_original\"], return_tensors=\"np\", padding=True)\n",
    "tokenized_bert_test_data = tokenizer_bert(test_df[\"tweet_original\"], return_tensors=\"np\", padding=True)\n",
    "labels_bert_train = np.array(train_df[\"related_manual\"])\n",
    "tokenized_bert_train_data = dict(tokenized_bert_train_data)\n",
    "tokenized_bert_test_data = dict(tokenized_bert_test_data)"
   ]
  },
  {
   "cell_type": "code",
   "execution_count": 26,
   "id": "bfce16e3-f118-4816-ade7-27c3c7e853d1",
   "metadata": {
    "tags": []
   },
   "outputs": [
    {
     "name": "stderr",
     "output_type": "stream",
     "text": [
      "All PyTorch model weights were used when initializing TFBertForSequenceClassification.\n",
      "\n",
      "Some weights or buffers of the TF 2.0 model TFBertForSequenceClassification were not initialized from the PyTorch model and are newly initialized: ['classifier.weight', 'classifier.bias']\n",
      "You should probably TRAIN this model on a down-stream task to be able to use it for predictions and inference.\n"
     ]
    }
   ],
   "source": [
    "#initialise pretrained BERT model\n",
    "model_bert = TFAutoModelForSequenceClassification.from_pretrained(\"bert-base-uncased\")"
   ]
  },
  {
   "cell_type": "code",
   "execution_count": 27,
   "id": "e1b617ad-c3f4-40c5-aa6a-9310d0853ff9",
   "metadata": {
    "tags": []
   },
   "outputs": [],
   "source": [
    "model_bert.compile(optimizer=Adam(3e-5))"
   ]
  },
  {
   "cell_type": "code",
   "execution_count": 29,
   "id": "d578078c-1869-471d-b542-ce11cdae2a76",
   "metadata": {
    "tags": []
   },
   "outputs": [
    {
     "name": "stderr",
     "output_type": "stream",
     "text": [
      "2023-08-07 06:36:42.807761: I tensorflow/core/grappler/optimizers/custom_graph_optimizer_registry.cc:114] Plugin optimizer for device_type GPU is enabled.\n",
      "2023-08-07 06:36:44.872052: E tensorflow/core/grappler/optimizers/meta_optimizer.cc:954] model_pruner failed: INVALID_ARGUMENT: Graph does not contain terminal node AssignAddVariableOp_10.\n"
     ]
    },
    {
     "name": "stdout",
     "output_type": "stream",
     "text": [
      "63/63 [==============================] - 816s 12s/step - loss: 0.3590\n",
      "CPU times: user 3min 3s, sys: 6min 5s, total: 9min 9s\n",
      "Wall time: 13min 35s\n"
     ]
    },
    {
     "data": {
      "text/plain": [
       "<keras.callbacks.History at 0x7fec0d600580>"
      ]
     },
     "execution_count": 29,
     "metadata": {},
     "output_type": "execute_result"
    }
   ],
   "source": [
    "%%time\n",
    "#finetune the BERT model using our dataset\n",
    "model_bert.fit(tokenized_bert_train_data,labels_bert_train)"
   ]
  },
  {
   "cell_type": "code",
   "execution_count": 30,
   "id": "437547ec-6f83-4ba1-9177-949c2be7943a",
   "metadata": {
    "tags": []
   },
   "outputs": [
    {
     "name": "stderr",
     "output_type": "stream",
     "text": [
      "2023-08-07 06:50:05.295807: I tensorflow/core/grappler/optimizers/custom_graph_optimizer_registry.cc:114] Plugin optimizer for device_type GPU is enabled.\n"
     ]
    },
    {
     "name": "stdout",
     "output_type": "stream",
     "text": [
      "16/16 [==============================] - 40s 2s/step\n",
      "CPU times: user 29.9 s, sys: 5.87 s, total: 35.7 s\n",
      "Wall time: 40 s\n"
     ]
    }
   ],
   "source": [
    "%%time\n",
    "#get the prediction logits\n",
    "bert_preds = model_bert.predict(tokenized_bert_test_data)[\"logits\"]"
   ]
  },
  {
   "cell_type": "code",
   "execution_count": 31,
   "id": "9aed09f5-eee7-4ee9-93e7-ed841b7475fc",
   "metadata": {
    "tags": []
   },
   "outputs": [],
   "source": [
    "#convert into binary class predictions\n",
    "class_bert_preds = np.argmax(bert_preds, axis=1)"
   ]
  },
  {
   "cell_type": "code",
   "execution_count": 21,
   "id": "dc9057bb-3638-4e5d-b602-d8b2a43e7571",
   "metadata": {
    "collapsed": true,
    "jupyter": {
     "outputs_hidden": true
    },
    "tags": []
   },
   "outputs": [
    {
     "data": {
      "text/plain": [
       "array([[-1.6983091 ,  1.1880945 ],\n",
       "       [ 1.9365022 , -2.0599244 ],\n",
       "       [ 1.9409713 , -2.1222336 ],\n",
       "       [-2.0236485 ,  1.6883504 ],\n",
       "       [-2.0725863 ,  1.599599  ],\n",
       "       [ 2.06329   , -2.20838   ],\n",
       "       [ 1.6203303 , -1.6624464 ],\n",
       "       [-1.6008744 ,  1.0763496 ],\n",
       "       [ 2.027021  , -2.2215617 ],\n",
       "       [-2.1029873 ,  1.6907939 ],\n",
       "       [ 0.80641973, -0.98727083],\n",
       "       [ 2.0153155 , -2.0600386 ],\n",
       "       [ 1.1108552 , -1.2284294 ],\n",
       "       [-2.0161135 ,  1.6090947 ],\n",
       "       [ 1.8132471 , -1.792389  ],\n",
       "       [ 1.9996723 , -2.084376  ],\n",
       "       [ 2.050748  , -2.1990292 ],\n",
       "       [ 2.0129514 , -2.1970966 ],\n",
       "       [ 2.0797064 , -2.2599578 ],\n",
       "       [ 1.4524599 , -1.409375  ],\n",
       "       [ 1.8321518 , -1.8123285 ],\n",
       "       [-1.6755092 ,  1.1663233 ],\n",
       "       [-1.9740106 ,  1.5091244 ],\n",
       "       [-2.0717707 ,  1.6334208 ],\n",
       "       [-2.0059135 ,  1.7494272 ],\n",
       "       [ 2.0101402 , -2.1600718 ],\n",
       "       [ 1.5767913 , -1.5273606 ],\n",
       "       [-1.9869013 ,  1.5278081 ],\n",
       "       [-1.947399  ,  1.6209849 ],\n",
       "       [ 1.7896498 , -1.8764395 ],\n",
       "       [ 1.7482405 , -1.8027555 ],\n",
       "       [ 2.0584116 , -2.1851525 ],\n",
       "       [ 2.0640388 , -2.2289913 ],\n",
       "       [ 2.0107489 , -2.1832395 ],\n",
       "       [ 0.30224606, -0.72769696],\n",
       "       [-2.044275  ,  1.5926186 ],\n",
       "       [-1.9875774 ,  1.5159229 ],\n",
       "       [-1.8788375 ,  1.4240916 ],\n",
       "       [-2.0320508 ,  1.6145415 ],\n",
       "       [ 2.046232  , -2.083838  ],\n",
       "       [-2.0452719 ,  1.6118859 ],\n",
       "       [ 2.0375907 , -2.1877148 ],\n",
       "       [-1.9750601 ,  1.5003678 ],\n",
       "       [ 1.7649885 , -1.7704953 ],\n",
       "       [-2.0421262 ,  1.5927112 ],\n",
       "       [-1.9909645 ,  1.5434593 ],\n",
       "       [ 2.0942657 , -2.2098927 ],\n",
       "       [-2.0353434 ,  1.6282886 ],\n",
       "       [-1.9968957 ,  1.5451475 ],\n",
       "       [-2.0109735 ,  1.5468379 ],\n",
       "       [ 2.0839312 , -2.2147646 ],\n",
       "       [-2.04429   ,  1.6371981 ],\n",
       "       [-2.0047488 ,  1.5516254 ],\n",
       "       [ 1.3673859 , -1.4806846 ],\n",
       "       [-1.9960756 ,  1.5193071 ],\n",
       "       [ 2.0720007 , -2.2958138 ],\n",
       "       [-2.0577886 ,  1.5936397 ],\n",
       "       [ 1.9882945 , -2.0536556 ],\n",
       "       [ 1.9275823 , -1.9655216 ],\n",
       "       [-1.9916064 ,  1.5374888 ],\n",
       "       [-1.9593357 ,  1.4894507 ],\n",
       "       [-2.008839  ,  1.5248893 ],\n",
       "       [-2.0223136 ,  1.6077653 ],\n",
       "       [-2.0710943 ,  1.6764666 ],\n",
       "       [ 2.0230181 , -2.1993344 ],\n",
       "       [ 1.7216216 , -1.8748424 ],\n",
       "       [-1.9918687 ,  1.6548041 ],\n",
       "       [ 1.6458291 , -1.6318613 ],\n",
       "       [-1.9875728 ,  1.5125576 ],\n",
       "       [-1.5594696 ,  1.0019699 ],\n",
       "       [ 1.9156944 , -2.0994406 ],\n",
       "       [ 2.1513736 , -2.2574108 ],\n",
       "       [-2.056244  ,  1.6305624 ],\n",
       "       [-2.044275  ,  1.5926186 ],\n",
       "       [ 1.3223616 , -1.4287039 ],\n",
       "       [ 1.7281247 , -1.6565567 ],\n",
       "       [ 1.9412428 , -1.9668249 ],\n",
       "       [ 1.4867096 , -1.42187   ],\n",
       "       [-0.53663   , -0.06305333],\n",
       "       [ 1.8022207 , -2.0396798 ],\n",
       "       [-2.0084598 ,  1.5119485 ],\n",
       "       [ 2.1058414 , -2.1249125 ],\n",
       "       [ 2.1096036 , -2.274697  ],\n",
       "       [-2.025314  ,  1.5869495 ],\n",
       "       [-2.0659463 ,  1.6525458 ],\n",
       "       [ 0.30963534, -0.51605177],\n",
       "       [ 1.605995  , -1.6092471 ],\n",
       "       [ 2.0365481 , -2.2758446 ],\n",
       "       [-1.9914055 ,  1.5654348 ],\n",
       "       [-2.024591  ,  1.5801854 ],\n",
       "       [-1.5629027 ,  1.0109463 ],\n",
       "       [ 1.7971321 , -1.8592501 ],\n",
       "       [-1.7213764 ,  1.2130426 ],\n",
       "       [ 1.7062129 , -1.8213531 ],\n",
       "       [-2.0146601 ,  1.5578109 ],\n",
       "       [-1.9624876 ,  1.5274593 ],\n",
       "       [ 1.887961  , -2.0432558 ],\n",
       "       [ 1.782249  , -1.7718126 ],\n",
       "       [ 2.1260643 , -2.2423885 ],\n",
       "       [-0.53745186,  0.04553772],\n",
       "       [-1.9904605 ,  1.4955891 ],\n",
       "       [-1.6355036 ,  1.1347944 ],\n",
       "       [ 1.9315299 , -1.9614085 ],\n",
       "       [-2.0346577 ,  1.564524  ],\n",
       "       [ 1.6885755 , -1.573085  ],\n",
       "       [-2.014954  ,  1.6015567 ],\n",
       "       [ 1.8438858 , -2.0257428 ],\n",
       "       [-2.0085847 ,  1.5693952 ],\n",
       "       [-1.9562227 ,  1.5367974 ],\n",
       "       [-2.0287554 ,  1.5910395 ],\n",
       "       [ 1.2734874 , -1.3815473 ],\n",
       "       [-2.0490277 ,  1.5607482 ],\n",
       "       [ 1.9435577 , -2.0392413 ],\n",
       "       [-2.008105  ,  1.5496708 ],\n",
       "       [-2.0413835 ,  1.636882  ],\n",
       "       [ 2.0002906 , -2.129958  ],\n",
       "       [-1.972046  ,  1.5267218 ],\n",
       "       [-1.9274211 ,  1.4503473 ],\n",
       "       [ 1.7631634 , -1.8092667 ],\n",
       "       [-1.9011774 ,  1.377611  ],\n",
       "       [-2.0207627 ,  1.6121043 ],\n",
       "       [ 1.96032   , -2.154094  ],\n",
       "       [-2.0073817 ,  1.5639864 ],\n",
       "       [-2.0707314 ,  1.6067152 ],\n",
       "       [-2.0331395 ,  1.5932637 ],\n",
       "       [-2.0539925 ,  1.5827304 ],\n",
       "       [ 1.4647633 , -1.4212381 ],\n",
       "       [ 1.7296723 , -1.8013484 ],\n",
       "       [-1.3959304 ,  0.9038772 ],\n",
       "       [-1.5985991 ,  1.130026  ],\n",
       "       [ 1.9375837 , -2.0546062 ],\n",
       "       [-1.9924029 ,  1.6035852 ],\n",
       "       [-1.9879031 ,  1.5041724 ],\n",
       "       [ 1.7196497 , -1.7993605 ],\n",
       "       [-2.0273564 ,  1.6265053 ],\n",
       "       [-1.9729193 ,  1.4566277 ],\n",
       "       [-1.4127463 ,  0.9203605 ],\n",
       "       [-1.6703943 ,  1.1555761 ],\n",
       "       [ 2.0246606 , -2.1737099 ],\n",
       "       [-2.012049  ,  1.5321313 ],\n",
       "       [-2.0569208 ,  1.6245822 ],\n",
       "       [-1.9798701 ,  1.5414872 ],\n",
       "       [-1.9606378 ,  1.4629439 ],\n",
       "       [ 2.0653985 , -2.1077416 ],\n",
       "       [-1.971409  ,  1.4923915 ],\n",
       "       [-1.5150595 ,  1.0095234 ],\n",
       "       [-2.0037258 ,  1.5882231 ],\n",
       "       [-2.0520737 ,  1.6088023 ],\n",
       "       [ 1.9704267 , -2.049526  ],\n",
       "       [ 1.8135706 , -1.824084  ],\n",
       "       [-2.012102  ,  1.5280713 ],\n",
       "       [-1.9957892 ,  1.5562917 ],\n",
       "       [-2.0196385 ,  1.5567139 ],\n",
       "       [ 1.9203329 , -2.0016377 ],\n",
       "       [-2.0143552 ,  1.5439054 ],\n",
       "       [ 1.6423539 , -1.6747591 ],\n",
       "       [ 1.90283   , -2.0209444 ],\n",
       "       [-2.011028  ,  1.5685666 ],\n",
       "       [-1.995015  ,  1.5216883 ],\n",
       "       [ 2.0878048 , -2.087536  ],\n",
       "       [ 1.9650826 , -2.0657434 ],\n",
       "       [-1.9452403 ,  1.4979839 ],\n",
       "       [ 1.9319208 , -2.0741694 ],\n",
       "       [ 1.4152507 , -1.5289458 ],\n",
       "       [-2.023863  ,  1.6097482 ],\n",
       "       [ 2.0420735 , -2.2030575 ],\n",
       "       [-2.0208354 ,  1.6111281 ],\n",
       "       [ 1.9828328 , -2.0269463 ],\n",
       "       [-1.7561165 ,  1.2901701 ],\n",
       "       [ 1.8800415 , -1.9031115 ],\n",
       "       [ 1.8830694 , -1.707636  ],\n",
       "       [-1.9951979 ,  1.6008922 ],\n",
       "       [-1.9214076 ,  1.486369  ],\n",
       "       [-2.0494428 ,  1.6254582 ],\n",
       "       [-2.0238967 ,  1.5574079 ],\n",
       "       [-2.0044785 ,  1.5319651 ],\n",
       "       [ 1.9159479 , -2.127651  ],\n",
       "       [-1.908286  ,  1.443468  ],\n",
       "       [ 1.9756836 , -2.1509993 ],\n",
       "       [-1.9414657 ,  1.5075587 ],\n",
       "       [ 2.118582  , -2.3036296 ],\n",
       "       [-2.0700338 ,  1.6132885 ],\n",
       "       [-1.4268624 ,  0.91375667],\n",
       "       [-1.9666281 ,  1.4639183 ],\n",
       "       [ 1.809281  , -1.8483493 ],\n",
       "       [-1.9693952 ,  1.481532  ],\n",
       "       [ 1.940025  , -1.99457   ],\n",
       "       [ 1.6591079 , -1.6715077 ],\n",
       "       [ 1.6408178 , -1.6902443 ],\n",
       "       [ 1.5582658 , -1.5931555 ],\n",
       "       [-1.9992743 ,  1.5420058 ],\n",
       "       [-1.9753009 ,  1.5455422 ],\n",
       "       [ 1.917865  , -2.0089877 ],\n",
       "       [-2.0425665 ,  1.6363316 ],\n",
       "       [-2.0014634 ,  1.5232426 ],\n",
       "       [ 1.9163185 , -2.086497  ],\n",
       "       [ 1.9649206 , -2.1707003 ],\n",
       "       [-2.0226629 ,  1.6124699 ],\n",
       "       [ 1.9015878 , -1.9062463 ],\n",
       "       [ 2.0427113 , -2.1788929 ],\n",
       "       [ 2.0347438 , -2.0850444 ],\n",
       "       [ 1.6027112 , -1.5064856 ],\n",
       "       [ 2.0531456 , -2.1439998 ],\n",
       "       [-1.9653145 ,  1.5111154 ],\n",
       "       [ 2.1305897 , -2.223071  ],\n",
       "       [-2.0350637 ,  1.5898848 ],\n",
       "       [-2.0232854 ,  1.6000158 ],\n",
       "       [-2.020353  ,  1.612612  ],\n",
       "       [-2.055453  ,  1.6187869 ],\n",
       "       [ 1.6593332 , -1.6344734 ],\n",
       "       [ 2.035018  , -2.227468  ],\n",
       "       [-1.9738822 ,  1.5387    ],\n",
       "       [ 2.0761468 , -2.2526276 ],\n",
       "       [-2.0110898 ,  1.6042408 ],\n",
       "       [ 1.9875995 , -2.0410244 ],\n",
       "       [ 2.0170743 , -2.2300966 ],\n",
       "       [-2.0550258 ,  1.5789772 ],\n",
       "       [ 1.9546264 , -2.0592701 ],\n",
       "       [-1.9435261 ,  1.5336843 ],\n",
       "       [ 1.9147578 , -2.0423417 ],\n",
       "       [ 1.8325111 , -1.9429132 ],\n",
       "       [ 1.509486  , -1.4380482 ],\n",
       "       [ 2.016466  , -2.1235294 ],\n",
       "       [ 1.4686211 , -1.4315355 ],\n",
       "       [ 2.0579572 , -2.2710845 ],\n",
       "       [ 2.0423012 , -2.197498  ],\n",
       "       [-2.0478728 ,  1.6383226 ],\n",
       "       [-1.7361631 ,  1.2467203 ],\n",
       "       [-1.9342206 ,  1.4467686 ],\n",
       "       [-2.0093052 ,  1.5454031 ],\n",
       "       [ 1.7287296 , -1.7926437 ],\n",
       "       [ 1.772735  , -1.8583902 ],\n",
       "       [-1.6948019 ,  1.2001888 ],\n",
       "       [ 1.4905368 , -1.5927521 ],\n",
       "       [-1.9178911 ,  1.4346195 ],\n",
       "       [ 1.2577009 , -1.426747  ],\n",
       "       [ 1.5806617 , -1.671715  ],\n",
       "       [ 2.046356  , -2.165921  ],\n",
       "       [ 1.4422969 , -1.5019035 ],\n",
       "       [ 1.3834232 , -1.5007156 ],\n",
       "       [-2.032692  ,  1.6121782 ],\n",
       "       [ 2.0373466 , -2.2410493 ],\n",
       "       [ 2.062362  , -2.2489612 ],\n",
       "       [ 1.9887606 , -2.1168346 ],\n",
       "       [-2.050595  ,  1.6315273 ],\n",
       "       [ 1.5093682 , -1.6318352 ],\n",
       "       [-2.011704  ,  1.5330397 ],\n",
       "       [ 2.0164888 , -2.2429273 ],\n",
       "       [-2.0177157 ,  1.6256472 ],\n",
       "       [-2.0279827 ,  1.6376525 ],\n",
       "       [ 2.0018427 , -2.1834285 ],\n",
       "       [-2.0473444 ,  1.56681   ],\n",
       "       [-1.9088558 ,  1.4101262 ],\n",
       "       [-2.0296144 ,  1.6603615 ],\n",
       "       [ 2.0372193 , -2.2410195 ],\n",
       "       [ 2.1102097 , -2.1561677 ],\n",
       "       [ 2.090266  , -2.1442838 ],\n",
       "       [-1.4700602 ,  0.97828037],\n",
       "       [-1.100718  ,  0.3121337 ],\n",
       "       [ 1.9760683 , -2.0106196 ],\n",
       "       [ 1.9684923 , -2.0457635 ],\n",
       "       [-2.0218456 ,  1.5349157 ],\n",
       "       [ 2.026312  , -2.132698  ],\n",
       "       [ 1.3106495 , -1.3701779 ],\n",
       "       [-2.0185614 ,  1.5693842 ],\n",
       "       [-1.3788797 ,  0.92572564],\n",
       "       [ 1.8438983 , -1.9225575 ],\n",
       "       [-2.0791538 ,  1.6476375 ],\n",
       "       [ 1.8729221 , -1.8763003 ],\n",
       "       [-1.4284806 ,  0.9199335 ],\n",
       "       [-1.9478505 ,  1.5577137 ],\n",
       "       [ 1.7948744 , -1.8774518 ],\n",
       "       [ 1.9696722 , -2.1359003 ],\n",
       "       [ 1.6596099 , -1.5888736 ],\n",
       "       [-2.030883  ,  1.5822469 ],\n",
       "       [-1.9157025 ,  1.5188261 ],\n",
       "       [ 1.8532972 , -2.020572  ],\n",
       "       [ 2.0105524 , -2.145558  ],\n",
       "       [-1.969534  ,  1.5299168 ],\n",
       "       [ 1.7177749 , -1.7839803 ],\n",
       "       [ 0.8188751 , -0.9984935 ],\n",
       "       [-1.6479167 ,  1.1788    ],\n",
       "       [ 1.336203  , -1.271985  ],\n",
       "       [-1.9747868 ,  1.5488298 ],\n",
       "       [ 1.7670153 , -1.8069462 ],\n",
       "       [-2.1055465 ,  1.7189689 ],\n",
       "       [-2.036     ,  1.5997328 ],\n",
       "       [ 2.0462317 , -2.1852129 ],\n",
       "       [-2.0615194 ,  1.610263  ],\n",
       "       [-1.9817812 ,  1.5528439 ],\n",
       "       [-1.5325165 ,  1.0235904 ],\n",
       "       [-1.6453055 ,  1.1888245 ],\n",
       "       [ 2.0182765 , -2.099169  ],\n",
       "       [-2.009121  ,  1.60522   ],\n",
       "       [-1.6301243 ,  1.1415727 ],\n",
       "       [-2.0111358 ,  1.5823454 ],\n",
       "       [ 1.9739152 , -2.1459882 ],\n",
       "       [-1.7518386 ,  1.1945175 ],\n",
       "       [ 1.5408908 , -1.5915371 ],\n",
       "       [ 1.9235686 , -1.9894061 ],\n",
       "       [-1.8495203 ,  1.3668439 ],\n",
       "       [ 1.9435285 , -1.9805174 ],\n",
       "       [ 1.0291841 , -1.2885517 ],\n",
       "       [-2.0136633 ,  1.5881454 ],\n",
       "       [-2.044845  ,  1.6248499 ],\n",
       "       [-1.9988819 ,  1.5427171 ],\n",
       "       [-1.9170996 ,  1.479967  ],\n",
       "       [ 1.14309   , -1.2245632 ],\n",
       "       [-2.000149  ,  1.5316583 ],\n",
       "       [ 1.9500117 , -2.0836117 ],\n",
       "       [ 1.3545094 , -1.3400887 ],\n",
       "       [-2.0494494 ,  1.5793229 ],\n",
       "       [-2.0206585 ,  1.5652026 ],\n",
       "       [ 2.1205542 , -2.3264341 ],\n",
       "       [ 1.8993495 , -1.9935422 ],\n",
       "       [-1.9840018 ,  1.5339416 ],\n",
       "       [ 2.130542  , -2.252281  ],\n",
       "       [-1.9820234 ,  1.5391499 ],\n",
       "       [-2.0061705 ,  1.5294952 ],\n",
       "       [ 2.0906498 , -2.2823493 ],\n",
       "       [-1.3441406 ,  0.841404  ],\n",
       "       [ 1.6553648 , -1.6831436 ],\n",
       "       [ 1.9966954 , -2.16197   ],\n",
       "       [-1.9731057 ,  1.5290993 ],\n",
       "       [-2.0317247 ,  1.6349157 ],\n",
       "       [-1.9906539 ,  1.5643926 ],\n",
       "       [-2.0230215 ,  1.623768  ],\n",
       "       [ 1.6934325 , -1.7357565 ],\n",
       "       [-1.4046291 ,  0.9144074 ],\n",
       "       [-2.0606198 ,  1.6412665 ],\n",
       "       [-1.9762654 ,  1.5548766 ],\n",
       "       [ 2.0430467 , -2.1879072 ],\n",
       "       [-2.0336788 ,  1.513783  ],\n",
       "       [-1.992207  ,  1.5477675 ],\n",
       "       [ 2.0914896 , -2.2334564 ],\n",
       "       [ 1.9628495 , -2.0444486 ],\n",
       "       [-1.6209519 ,  1.1236795 ],\n",
       "       [-1.9860055 ,  1.5410229 ],\n",
       "       [-1.9679457 ,  1.4823178 ],\n",
       "       [ 1.5263975 , -1.7192167 ],\n",
       "       [-1.9993774 ,  1.5518974 ],\n",
       "       [ 2.03135   , -2.1146739 ],\n",
       "       [ 1.8069667 , -1.9301598 ],\n",
       "       [-1.9327179 ,  1.3898228 ],\n",
       "       [-2.0061395 ,  1.5347608 ],\n",
       "       [ 2.1030316 , -2.2544835 ],\n",
       "       [ 1.9879597 , -2.1257865 ],\n",
       "       [ 1.9518986 , -2.0549912 ],\n",
       "       [-1.9713107 ,  1.4849089 ],\n",
       "       [ 1.9377187 , -2.013635  ],\n",
       "       [-1.9730996 ,  1.4480401 ],\n",
       "       [ 2.0417964 , -2.1754467 ],\n",
       "       [-1.9703858 ,  1.484579  ],\n",
       "       [ 1.6336437 , -1.6210145 ],\n",
       "       [-1.7183851 ,  1.2025017 ],\n",
       "       [-2.027544  ,  1.5986859 ],\n",
       "       [-2.0758088 ,  1.606233  ],\n",
       "       [-2.029984  ,  1.5320377 ],\n",
       "       [-1.6689762 ,  1.1433774 ],\n",
       "       [-1.9892879 ,  1.5106357 ],\n",
       "       [-1.6877408 ,  1.2016455 ],\n",
       "       [-0.24716064, -0.27098507],\n",
       "       [ 1.5491087 , -1.4601403 ],\n",
       "       [-2.0388968 ,  1.6232133 ],\n",
       "       [ 2.0791047 , -2.1935594 ],\n",
       "       [-2.0357392 ,  1.6307913 ],\n",
       "       [-1.9438101 ,  1.4252104 ],\n",
       "       [-0.56429744,  0.0342491 ],\n",
       "       [-1.7669992 ,  1.3058022 ],\n",
       "       [-1.9798304 ,  1.5508759 ],\n",
       "       [-2.0436192 ,  1.6079502 ],\n",
       "       [-1.9707664 ,  1.4945581 ],\n",
       "       [ 2.0774386 , -2.239949  ],\n",
       "       [-1.8829578 ,  1.4384731 ],\n",
       "       [ 1.9111781 , -1.9972972 ],\n",
       "       [ 2.087331  , -2.2681496 ],\n",
       "       [-1.9473495 ,  1.4502803 ],\n",
       "       [-2.0153835 ,  1.5706824 ],\n",
       "       [ 1.5523866 , -1.5946949 ],\n",
       "       [ 2.0156748 , -2.2031422 ],\n",
       "       [ 0.23371983, -0.49815482],\n",
       "       [ 1.9205137 , -2.018167  ],\n",
       "       [-1.6713021 ,  1.1514277 ],\n",
       "       [-2.0012128 ,  1.6652552 ],\n",
       "       [-1.8889323 ,  1.4536299 ],\n",
       "       [-2.0262082 ,  1.5812317 ],\n",
       "       [-1.9958711 ,  1.5704322 ],\n",
       "       [ 0.19974151, -0.73733544],\n",
       "       [ 1.5106188 , -1.6125504 ],\n",
       "       [-2.0480342 ,  1.6065849 ],\n",
       "       [-1.9849173 ,  1.5146598 ],\n",
       "       [ 1.9296402 , -2.0040698 ],\n",
       "       [ 1.8980957 , -1.8213276 ],\n",
       "       [ 1.8490715 , -1.9624698 ],\n",
       "       [-1.6636115 ,  1.186306  ],\n",
       "       [-1.9624071 ,  1.5266316 ],\n",
       "       [ 2.0489657 , -2.2166166 ],\n",
       "       [-2.0817487 ,  1.7187485 ],\n",
       "       [ 2.0711203 , -2.1106575 ],\n",
       "       [ 1.4515818 , -1.6060528 ],\n",
       "       [-2.014787  ,  1.5562257 ],\n",
       "       [ 1.9105595 , -2.0247607 ],\n",
       "       [ 1.389886  , -1.3382739 ],\n",
       "       [-1.9906666 ,  1.529977  ],\n",
       "       [-2.006401  ,  1.5689963 ],\n",
       "       [-1.9849914 ,  1.6284019 ],\n",
       "       [-1.9942476 ,  1.5508648 ],\n",
       "       [-2.085079  ,  1.67122   ],\n",
       "       [-2.000715  ,  1.5303246 ],\n",
       "       [-1.9330177 ,  1.4492751 ],\n",
       "       [ 1.990565  , -2.0207756 ],\n",
       "       [ 1.3819886 , -1.5450661 ],\n",
       "       [ 0.19763309, -0.5904484 ],\n",
       "       [-1.9904268 ,  1.5438894 ],\n",
       "       [ 1.862735  , -1.965789  ],\n",
       "       [ 2.0073316 , -2.2242396 ],\n",
       "       [ 1.3350219 , -1.3946593 ],\n",
       "       [ 1.6838905 , -1.7526416 ],\n",
       "       [ 2.0267603 , -2.0449278 ],\n",
       "       [ 2.1261895 , -2.159076  ],\n",
       "       [-2.082595  ,  1.6516967 ],\n",
       "       [-1.447939  ,  0.9768931 ],\n",
       "       [-2.0649579 ,  1.669618  ],\n",
       "       [ 2.079722  , -2.2439013 ],\n",
       "       [ 1.9771599 , -2.0337098 ],\n",
       "       [ 1.7796367 , -1.8785037 ],\n",
       "       [-1.9890599 ,  1.5254763 ],\n",
       "       [-1.9704136 ,  1.501433  ],\n",
       "       [ 1.9241972 , -1.985557  ],\n",
       "       [ 1.9401478 , -2.1521404 ],\n",
       "       [-2.03325   ,  1.6118697 ],\n",
       "       [ 1.7802905 , -1.7013538 ],\n",
       "       [-2.0146484 ,  1.5887656 ],\n",
       "       [-1.9723996 ,  1.5250136 ],\n",
       "       [ 1.5454378 , -1.7539548 ],\n",
       "       [-2.0141432 ,  1.5867928 ],\n",
       "       [-2.0154116 ,  1.5734142 ],\n",
       "       [-1.9974837 ,  1.5274037 ],\n",
       "       [-2.0291154 ,  1.6393932 ],\n",
       "       [-2.006494  ,  1.5592376 ],\n",
       "       [-1.953561  ,  1.4242928 ],\n",
       "       [ 1.7377888 , -1.858618  ],\n",
       "       [ 1.8610264 , -1.7854168 ],\n",
       "       [ 2.002196  , -2.1659038 ],\n",
       "       [-1.968121  ,  1.6151716 ],\n",
       "       [-1.7502868 ,  1.2094979 ],\n",
       "       [-1.9983429 ,  1.572843  ],\n",
       "       [ 1.8297035 , -1.955913  ],\n",
       "       [-2.0583608 ,  1.5851988 ],\n",
       "       [ 1.9602954 , -2.1343315 ],\n",
       "       [-1.6233566 ,  1.173164  ],\n",
       "       [ 1.9298987 , -2.0612345 ],\n",
       "       [-1.9683726 ,  1.5463207 ],\n",
       "       [-2.0534456 ,  1.6381849 ],\n",
       "       [-2.0210903 ,  1.6220083 ],\n",
       "       [ 2.076606  , -2.0538576 ],\n",
       "       [-1.9525217 ,  1.4722762 ],\n",
       "       [-2.0208194 ,  1.5704364 ],\n",
       "       [-2.0712779 ,  1.609201  ],\n",
       "       [-1.7068013 ,  1.2119545 ],\n",
       "       [-2.0070188 ,  1.6190004 ],\n",
       "       [ 1.7767738 , -1.7326878 ],\n",
       "       [-1.1117712 ,  0.5506336 ],\n",
       "       [-2.0331905 ,  1.6851043 ],\n",
       "       [ 1.7717711 , -1.7916046 ],\n",
       "       [-2.0419683 ,  1.5722982 ],\n",
       "       [-1.9404781 ,  1.4353787 ],\n",
       "       [ 1.9126695 , -2.0791633 ],\n",
       "       [ 2.0980036 , -2.312371  ],\n",
       "       [ 2.071427  , -2.250948  ],\n",
       "       [ 2.0650601 , -2.0359986 ],\n",
       "       [-1.6139332 ,  1.1550878 ],\n",
       "       [ 1.9584534 , -2.019995  ],\n",
       "       [-1.9521252 ,  1.5197481 ],\n",
       "       [-2.0219738 ,  1.5483588 ],\n",
       "       [ 1.9991301 , -2.1114416 ],\n",
       "       [ 1.8223673 , -1.9846001 ],\n",
       "       [-1.9945127 ,  1.5115749 ],\n",
       "       [ 1.2740121 , -1.311531  ],\n",
       "       [-1.7230564 ,  1.2609266 ],\n",
       "       [-1.5464613 ,  1.0354663 ],\n",
       "       [-1.9715856 ,  1.4723282 ],\n",
       "       [-2.0346305 ,  1.5946555 ],\n",
       "       [-1.965186  ,  1.5203086 ],\n",
       "       [-2.0356145 ,  1.6270751 ],\n",
       "       [-1.7151651 ,  1.2444459 ],\n",
       "       [ 1.696756  , -1.7611854 ],\n",
       "       [-1.681284  ,  1.180273  ],\n",
       "       [-2.0470731 ,  1.6158999 ],\n",
       "       [-2.0704286 ,  1.6343392 ],\n",
       "       [ 1.3702792 , -1.496325  ],\n",
       "       [-1.9330953 ,  1.4454135 ],\n",
       "       [-2.041824  ,  1.6102837 ],\n",
       "       [-2.0086858 ,  1.524938  ],\n",
       "       [ 2.04835   , -2.2393162 ],\n",
       "       [-2.0933616 ,  1.6405257 ],\n",
       "       [-2.024785  ,  1.6199692 ],\n",
       "       [ 1.4850937 , -1.6427852 ],\n",
       "       [-2.0339727 ,  1.6195277 ],\n",
       "       [ 1.6809169 , -1.6621455 ]], dtype=float32)"
      ]
     },
     "execution_count": 21,
     "metadata": {},
     "output_type": "execute_result"
    }
   ],
   "source": [
    "bert_preds"
   ]
  },
  {
   "cell_type": "code",
   "execution_count": 32,
   "id": "b1d3f7f7-740e-4b88-9b7b-3532a50bc4e7",
   "metadata": {
    "tags": []
   },
   "outputs": [
    {
     "name": "stdout",
     "output_type": "stream",
     "text": [
      "Accuracy: 95.8%\n",
      "[250   0  21 229]\n",
      "TP: 250\n",
      "FP: 21\n",
      "TN: 229\n",
      "FN: 0\n",
      "Sensitivity: 100.0%\n",
      "Specificity: 91.6%\n",
      "Precision: 92.251%\n",
      "Recall: 100.0%\n",
      "f1: 95.969%\n"
     ]
    },
    {
     "data": {
      "image/png": "[encoded data removed]",
      "text/plain": [
       "<Figure size 640x480 with 2 Axes>"
      ]
     },
     "metadata": {},
     "output_type": "display_data"
    }
   ],
   "source": [
    "#generate performance report\n",
    "performance(test_df['related_manual'],class_bert_preds)"
   ]
  },
  {
   "cell_type": "markdown",
   "id": "794296f1-1ec3-4006-80ea-465fadf919de",
   "metadata": {},
   "source": [
    "<h5>Now, let us repeat the same experiments with Cleaned tweets<h5>"
   ]
  },
  {
   "cell_type": "code",
   "execution_count": 4,
   "id": "339d7aba-7717-4a46-a99a-991e457cc3bf",
   "metadata": {
    "tags": []
   },
   "outputs": [],
   "source": [
    "\n",
    "tokenizer_bert_cleaned = AutoTokenizer.from_pretrained(\"bert-base-uncased\")"
   ]
  },
  {
   "cell_type": "code",
   "execution_count": 6,
   "id": "155634ce-4ec7-4a53-bbb3-58b9f04beb99",
   "metadata": {
    "tags": []
   },
   "outputs": [],
   "source": [
    "tokenized_bert_train_data_cleaned = tokenizer_bert_cleaned(train_df_cleaned[\"tweet_preprocessed\"], return_tensors=\"np\", padding=True)\n",
    "tokenized_bert_test_data_cleaned = tokenizer_bert_cleaned(test_df_cleaned[\"tweet_preprocessed\"], return_tensors=\"np\", padding=True)\n",
    "labels_bert_train_cleaned = np.array(train_df_cleaned[\"related_manual\"])\n",
    "tokenized_bert_train_data_cleaned = dict(tokenized_bert_train_data_cleaned)\n",
    "tokenized_bert_test_data_cleaned = dict(tokenized_bert_test_data_cleaned)"
   ]
  },
  {
   "cell_type": "code",
   "execution_count": 7,
   "id": "989d18fc-6fb5-47df-afcb-5f4aabe26f08",
   "metadata": {
    "tags": []
   },
   "outputs": [
    {
     "name": "stderr",
     "output_type": "stream",
     "text": [
      "2023-08-14 12:56:40.034250: I tensorflow/core/common_runtime/pluggable_device/pluggable_device_factory.cc:306] Could not identify NUMA node of platform GPU ID 0, defaulting to 0. Your kernel may not have been built with NUMA support.\n",
      "2023-08-14 12:56:40.034312: I tensorflow/core/common_runtime/pluggable_device/pluggable_device_factory.cc:272] Created TensorFlow device (/job:localhost/replica:0/task:0/device:GPU:0 with 0 MB memory) -> physical PluggableDevice (device: 0, name: METAL, pci bus id: <undefined>)\n",
      "All PyTorch model weights were used when initializing TFBertForSequenceClassification.\n",
      "\n",
      "Some weights or buffers of the TF 2.0 model TFBertForSequenceClassification were not initialized from the PyTorch model and are newly initialized: ['classifier.weight', 'classifier.bias']\n",
      "You should probably TRAIN this model on a down-stream task to be able to use it for predictions and inference.\n"
     ]
    }
   ],
   "source": [
    "model_bert_cleaned = TFAutoModelForSequenceClassification.from_pretrained(\"bert-base-uncased\")"
   ]
  },
  {
   "cell_type": "code",
   "execution_count": 8,
   "id": "5c86dee7-4e0b-453f-8648-47cc3c4256b6",
   "metadata": {
    "tags": []
   },
   "outputs": [],
   "source": [
    "model_bert_cleaned.compile(optimizer=Adam(3e-5))"
   ]
  },
  {
   "cell_type": "code",
   "execution_count": 9,
   "id": "745c2dca-04c9-4f3e-812c-e6768d2876d7",
   "metadata": {
    "tags": []
   },
   "outputs": [
    {
     "name": "stderr",
     "output_type": "stream",
     "text": [
      "2023-08-14 12:57:18.490818: I tensorflow/core/grappler/optimizers/custom_graph_optimizer_registry.cc:114] Plugin optimizer for device_type GPU is enabled.\n",
      "2023-08-14 12:57:20.631545: E tensorflow/core/grappler/optimizers/meta_optimizer.cc:954] model_pruner failed: INVALID_ARGUMENT: Graph does not contain terminal node AssignAddVariableOp_10.\n"
     ]
    },
    {
     "name": "stdout",
     "output_type": "stream",
     "text": [
      "63/63 [==============================] - 161s 2s/step - loss: 0.3549\n",
      "CPU times: user 1min 42s, sys: 41.4 s, total: 2min 23s\n",
      "Wall time: 2min 42s\n"
     ]
    },
    {
     "data": {
      "text/plain": [
       "<keras.callbacks.History at 0x7f7dea7b9490>"
      ]
     },
     "execution_count": 9,
     "metadata": {},
     "output_type": "execute_result"
    }
   ],
   "source": [
    "%%time\n",
    "model_bert_cleaned.fit(tokenized_bert_train_data_cleaned,labels_bert_train_cleaned)"
   ]
  },
  {
   "cell_type": "code",
   "execution_count": 10,
   "id": "e193f742-c745-4f65-8e27-b02be1ec8ad5",
   "metadata": {
    "tags": []
   },
   "outputs": [
    {
     "name": "stderr",
     "output_type": "stream",
     "text": [
      "2023-08-14 13:01:10.700826: I tensorflow/core/grappler/optimizers/custom_graph_optimizer_registry.cc:114] Plugin optimizer for device_type GPU is enabled.\n"
     ]
    },
    {
     "name": "stdout",
     "output_type": "stream",
     "text": [
      "16/16 [==============================] - 26s 1s/step\n",
      "CPU times: user 19.2 s, sys: 4.41 s, total: 23.6 s\n",
      "Wall time: 27.1 s\n"
     ]
    }
   ],
   "source": [
    "%%time\n",
    "bert_preds_cleaned = model_bert_cleaned.predict(tokenized_bert_test_data_cleaned)[\"logits\"]"
   ]
  },
  {
   "cell_type": "code",
   "execution_count": 11,
   "id": "4ae9e0c4-fb03-41be-8573-ba5375b12cf4",
   "metadata": {
    "tags": []
   },
   "outputs": [],
   "source": [
    "class_bert_preds_cleaned = np.argmax(bert_preds_cleaned, axis=1)"
   ]
  },
  {
   "cell_type": "code",
   "execution_count": 14,
   "id": "7170758b-2f01-4508-93f8-6d0f5f34c5fa",
   "metadata": {
    "tags": []
   },
   "outputs": [
    {
     "name": "stdout",
     "output_type": "stream",
     "text": [
      "Accuracy: 94.2%\n",
      "[244   6  23 227]\n",
      "TP: 244\n",
      "FP: 23\n",
      "TN: 227\n",
      "FN: 6\n",
      "Sensitivity: 97.6%\n",
      "Specificity: 90.8%\n",
      "Precision: 91.386%\n",
      "Recall: 97.6%\n",
      "f1: 94.391%\n"
     ]
    },
    {
     "data": {
      "image/png": "[encoded data removed]",
      "text/plain": [
       "<Figure size 640x480 with 2 Axes>"
      ]
     },
     "metadata": {},
     "output_type": "display_data"
    }
   ],
   "source": [
    "performance(test_df_cleaned['related_manual'],class_bert_preds_cleaned)"
   ]
  },
  {
   "cell_type": "markdown",
   "id": "a238be31-a6de-4e87-8a55-3be434691a36",
   "metadata": {},
   "source": [
    "<h2>Results<h2>\n",
    "    <h5>Clearly, the model performed better when finetuned with raw tweets. Which means BERT is effective in learning deep contextual represntations of sentences<h5>"
   ]
  },
  {
   "cell_type": "markdown",
   "id": "7c5ed141-a593-4e8f-a230-cd259ab5f5c7",
   "metadata": {},
   "source": [
    "| Model | Accuracy | TP  | FP | TN  | FN | Sensitivity | Specificity | Precision | Recall | f1-score |\n",
    "|-------|----------|-----|----|-----|----|-------------|-------------|-----------|--------|----------|\n",
    "| BERT  | 95.8%    | 250 | 21 | 229 | 0  | 100.0%      | 91.6%       | 92.251%   | 100.0% | 95.969%  |"
   ]
  }
 ],
 "metadata": {
  "kernelspec": {
   "display_name": "Python 3 (ipykernel)",
   "language": "python",
   "name": "python3"
  },
  "language_info": {
   "codemirror_mode": {
    "name": "ipython",
    "version": 3
   },
   "file_extension": ".py",
   "mimetype": "text/x-python",
   "name": "python",
   "nbconvert_exporter": "python",
   "pygments_lexer": "ipython3",
   "version": "3.8.8"
  }
 },
 "nbformat": 4,
 "nbformat_minor": 5
}
