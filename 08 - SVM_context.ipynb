{
 "cells": [
  {
   "cell_type": "markdown",
   "id": "f32fb589-7681-44c0-9dc4-da3439c14041",
   "metadata": {},
   "source": [
    "<h1>SVM<h1>\n",
    "    <h5>We solve the tweet classification problem using SVM. Additionally, we study the effect of the context annotations information from the twitter API<h5>"
   ]
  },
  {
   "cell_type": "code",
   "execution_count": 1,
   "id": "2c2ea74b-0f29-4c39-b4e3-2cb87d0f6832",
   "metadata": {
    "tags": []
   },
   "outputs": [],
   "source": [
    "#importing libraries\n",
    "import pandas as pd\n",
    "import numpy as np\n",
    "from sklearn import model_selection\n",
    "from sklearn.svm import SVC\n",
    "from sklearn.metrics import confusion_matrix\n",
    "from sklearn.model_selection import train_test_split\n",
    "import matplotlib.pyplot as plt\n",
    "from sklearn.model_selection import GridSearchCV\n",
    "import re\n",
    "import dill\n",
    "from sklearn import metrics\n",
    "import matplotlib.pyplot as plt\n",
    "from collections import Counter"
   ]
  },
  {
   "cell_type": "code",
   "execution_count": 2,
   "id": "50d77583-7287-499c-affa-422574087e59",
   "metadata": {
    "tags": []
   },
   "outputs": [],
   "source": [
    "#helper for generating performance report\n",
    "def performance(y_true,y_predict,y_proba):\n",
    "    TP = confusion_matrix(y_true,y_predict)[0,0]\n",
    "    FP = confusion_matrix(y_true,y_predict)[0,1]\n",
    "    TN = confusion_matrix(y_true,y_predict)[1,1]\n",
    "    FN = confusion_matrix(y_true,y_predict)[1,0]\n",
    "    TN, FP, FN, TP = confusion_matrix(y_true,y_predict).ravel()\n",
    "    print(f\"Accuracy: {round(((TP+TN)/(TP+TN+FP+FN))*100,3)}%\")\n",
    "    precision = round((TP/(TP+ FP))*100,3)\n",
    "    recall = round((TP/(TP+ FN))*100,3)\n",
    "    print(confusion_matrix(y_true,y_predict,labels=[1,0]).ravel())\n",
    "    print(f\"TP: {TP}\")\n",
    "    print(f\"FP: {FP}\")\n",
    "    print(f\"TN: {TN}\")\n",
    "    print(f\"FN: {FN}\")\n",
    "    print(f\"Sensitivity: {round((TP/(TP+ FN))*100,3)}%\")\n",
    "    print(f\"Specificity: {round((TN/(TN + FP))*100,3)}%\")\n",
    "    print(f\"Precision: {precision}%\")\n",
    "    print(f\"Recall: {recall}%\")\n",
    "    print(f\"f1: {round(((2*precision*recall)/(precision+recall)),3)}%\")\n",
    "    cm_display = metrics.ConfusionMatrixDisplay(confusion_matrix(y_true,y_predict,labels=[1,0]), display_labels=[1,0])\n",
    "    cm_display.plot()\n",
    "    plt.show()\n",
    "    \n",
    "    false_positive_rate, true_positive_rate, thresholds = metrics.roc_curve(y_true,y_proba)\n",
    "    area = metrics.auc(false_positive_rate, true_positive_rate)\n",
    "    plt.figure()\n",
    "    plt.plot(false_positive_rate, true_positive_rate, color='green', lw=2, label=f'ROC curve (Area Under Curve = {area:.2f})')\n",
    "    plt.plot([0, 1], [0, 1], color='blue', lw=2, linestyle='--')\n",
    "    plt.xlim([0.0, 1.0])\n",
    "    plt.ylim([0.0, 1.05])\n",
    "    plt.xlabel('False Positive Rate (FPR)')\n",
    "    plt.ylabel('True Positive Rate (TPR)')\n",
    "    plt.title('Receiver Operating Characteristic (ROC) Curve')\n",
    "    plt.legend(loc=\"lower right\")\n",
    "    plt.show()"
   ]
  },
  {
   "cell_type": "code",
   "execution_count": 4,
   "id": "35e8894b-c338-4677-9181-6ae443ab2b2a",
   "metadata": {
    "tags": []
   },
   "outputs": [],
   "source": [
    "#dill.load_session('./svm_context.db')"
   ]
  },
  {
   "cell_type": "code",
   "execution_count": 5,
   "id": "0c0b945c-7731-48a2-8ff8-f3797f2c0cc4",
   "metadata": {
    "tags": []
   },
   "outputs": [],
   "source": [
    "#load the raw tweet dataset\n",
    "train_df = pd.read_pickle('./train_df.pkl')\n",
    "test_df = pd.read_pickle('./test_df.pkl')"
   ]
  },
  {
   "cell_type": "code",
   "execution_count": 6,
   "id": "9d1de94b-8c8d-4da1-a8d5-742e182260d9",
   "metadata": {
    "tags": []
   },
   "outputs": [],
   "source": [
    "#load the cleaned tweet dataset\n",
    "train_df_cleaned = pd.read_pickle('./train_df_cleaned.pkl')\n",
    "test_df_cleaned = pd.read_pickle('./test_df_cleaned.pkl')"
   ]
  },
  {
   "cell_type": "code",
   "execution_count": 8,
   "id": "8ce1ec4b-71db-423a-adf8-eb6b5f9cca3b",
   "metadata": {
    "tags": []
   },
   "outputs": [
    {
     "data": {
      "text/plain": [
       "related_manual\n",
       "0.0    1000\n",
       "1.0    1000\n",
       "Name: count, dtype: int64"
      ]
     },
     "execution_count": 8,
     "metadata": {},
     "output_type": "execute_result"
    }
   ],
   "source": [
    "#check for equal class distribution in train set\n",
    "train_df['related_manual'].value_counts()"
   ]
  },
  {
   "cell_type": "code",
   "execution_count": 9,
   "id": "f75406b9-741d-40dd-a224-52decd688054",
   "metadata": {
    "tags": []
   },
   "outputs": [
    {
     "data": {
      "text/plain": [
       "related_manual\n",
       "1.0    250\n",
       "0.0    250\n",
       "Name: count, dtype: int64"
      ]
     },
     "execution_count": 9,
     "metadata": {},
     "output_type": "execute_result"
    }
   ],
   "source": [
    "#check for equal class distribution in test set\n",
    "test_df['related_manual'].value_counts()"
   ]
  },
  {
   "cell_type": "code",
   "execution_count": 4,
   "id": "ddf6b58e-d0b4-4dfc-8571-92208ce1577c",
   "metadata": {
    "tags": []
   },
   "outputs": [],
   "source": [
    "#define parameter options for gridsearch\n",
    "param_grid = {'C':[0.1,1,10],'gamma':[1,0.1,0.001,0.0001], 'kernel':['linear','rbf']}"
   ]
  },
  {
   "cell_type": "markdown",
   "id": "62ba3648-9509-40de-bf38-1966be361919",
   "metadata": {},
   "source": [
    "First, let us run the SVM model on the transformed tweet dataset (raw tweets).\n",
    "We transform the tweet dataset by adding the word2vec embedding of raw tweets with the word2vec representation of the context field"
   ]
  },
  {
   "cell_type": "code",
   "execution_count": 11,
   "id": "31500ca9-9108-450f-bfe9-517d62641c41",
   "metadata": {
    "tags": []
   },
   "outputs": [],
   "source": [
    "#Add the raw tweet word2vec vectors to the context word2vec vectors\n",
    "train_df_transformed = train_df['tweet_word2vec_original']+train_df['context_word2vec']\n",
    "test_df_transformed = test_df['tweet_word2vec_original']+test_df['context_word2vec']"
   ]
  },
  {
   "cell_type": "code",
   "execution_count": 13,
   "id": "7bb86429-331a-48a5-9f97-61097a456ac7",
   "metadata": {
    "tags": []
   },
   "outputs": [],
   "source": [
    "#initialise grid\n",
    "grid = GridSearchCV(SVC(probability=True),param_grid,refit = True, verbose=2, n_jobs=-1)"
   ]
  },
  {
   "cell_type": "code",
   "execution_count": 14,
   "id": "f920489a-5298-456f-8c8b-3a89fa43afa4",
   "metadata": {
    "tags": []
   },
   "outputs": [
    {
     "name": "stdout",
     "output_type": "stream",
     "text": [
      "Fitting 5 folds for each of 24 candidates, totalling 120 fits\n",
      "CPU times: user 12.4 s, sys: 1.34 s, total: 13.7 s\n",
      "Wall time: 1min 24s\n"
     ]
    },
    {
     "data": {
      "text/html": [
       "<style>#sk-container-id-1 {color: black;}#sk-container-id-1 pre{padding: 0;}#sk-container-id-1 div.sk-toggleable {background-color: white;}#sk-container-id-1 label.sk-toggleable__label {cursor: pointer;display: block;width: 100%;margin-bottom: 0;padding: 0.3em;box-sizing: border-box;text-align: center;}#sk-container-id-1 label.sk-toggleable__label-arrow:before {content: \"▸\";float: left;margin-right: 0.25em;color: #696969;}#sk-container-id-1 label.sk-toggleable__label-arrow:hover:before {color: black;}#sk-container-id-1 div.sk-estimator:hover label.sk-toggleable__label-arrow:before {color: black;}#sk-container-id-1 div.sk-toggleable__content {max-height: 0;max-width: 0;overflow: hidden;text-align: left;background-color: #f0f8ff;}#sk-container-id-1 div.sk-toggleable__content pre {margin: 0.2em;color: black;border-radius: 0.25em;background-color: #f0f8ff;}#sk-container-id-1 input.sk-toggleable__control:checked~div.sk-toggleable__content {max-height: 200px;max-width: 100%;overflow: auto;}#sk-container-id-1 input.sk-toggleable__control:checked~label.sk-toggleable__label-arrow:before {content: \"▾\";}#sk-container-id-1 div.sk-estimator input.sk-toggleable__control:checked~label.sk-toggleable__label {background-color: #d4ebff;}#sk-container-id-1 div.sk-label input.sk-toggleable__control:checked~label.sk-toggleable__label {background-color: #d4ebff;}#sk-container-id-1 input.sk-hidden--visually {border: 0;clip: rect(1px 1px 1px 1px);clip: rect(1px, 1px, 1px, 1px);height: 1px;margin: -1px;overflow: hidden;padding: 0;position: absolute;width: 1px;}#sk-container-id-1 div.sk-estimator {font-family: monospace;background-color: #f0f8ff;border: 1px dotted black;border-radius: 0.25em;box-sizing: border-box;margin-bottom: 0.5em;}#sk-container-id-1 div.sk-estimator:hover {background-color: #d4ebff;}#sk-container-id-1 div.sk-parallel-item::after {content: \"\";width: 100%;border-bottom: 1px solid gray;flex-grow: 1;}#sk-container-id-1 div.sk-label:hover label.sk-toggleable__label {background-color: #d4ebff;}#sk-container-id-1 div.sk-serial::before {content: \"\";position: absolute;border-left: 1px solid gray;box-sizing: border-box;top: 0;bottom: 0;left: 50%;z-index: 0;}#sk-container-id-1 div.sk-serial {display: flex;flex-direction: column;align-items: center;background-color: white;padding-right: 0.2em;padding-left: 0.2em;position: relative;}#sk-container-id-1 div.sk-item {position: relative;z-index: 1;}#sk-container-id-1 div.sk-parallel {display: flex;align-items: stretch;justify-content: center;background-color: white;position: relative;}#sk-container-id-1 div.sk-item::before, #sk-container-id-1 div.sk-parallel-item::before {content: \"\";position: absolute;border-left: 1px solid gray;box-sizing: border-box;top: 0;bottom: 0;left: 50%;z-index: -1;}#sk-container-id-1 div.sk-parallel-item {display: flex;flex-direction: column;z-index: 1;position: relative;background-color: white;}#sk-container-id-1 div.sk-parallel-item:first-child::after {align-self: flex-end;width: 50%;}#sk-container-id-1 div.sk-parallel-item:last-child::after {align-self: flex-start;width: 50%;}#sk-container-id-1 div.sk-parallel-item:only-child::after {width: 0;}#sk-container-id-1 div.sk-dashed-wrapped {border: 1px dashed gray;margin: 0 0.4em 0.5em 0.4em;box-sizing: border-box;padding-bottom: 0.4em;background-color: white;}#sk-container-id-1 div.sk-label label {font-family: monospace;font-weight: bold;display: inline-block;line-height: 1.2em;}#sk-container-id-1 div.sk-label-container {text-align: center;}#sk-container-id-1 div.sk-container {/* jupyter's `normalize.less` sets `[hidden] { display: none; }` but bootstrap.min.css set `[hidden] { display: none !important; }` so we also need the `!important` here to be able to override the default hidden behavior on the sphinx rendered scikit-learn.org. See: https://github.com/scikit-learn/scikit-learn/issues/21755 */display: inline-block !important;position: relative;}#sk-container-id-1 div.sk-text-repr-fallback {display: none;}</style><div id=\"sk-container-id-1\" class=\"sk-top-container\"><div class=\"sk-text-repr-fallback\"><pre>GridSearchCV(estimator=SVC(probability=True), n_jobs=-1,\n",
       "             param_grid={&#x27;C&#x27;: [0.1, 1, 10], &#x27;gamma&#x27;: [1, 0.1, 0.001, 0.0001],\n",
       "                         &#x27;kernel&#x27;: [&#x27;linear&#x27;, &#x27;rbf&#x27;]},\n",
       "             verbose=2)</pre><b>In a Jupyter environment, please rerun this cell to show the HTML representation or trust the notebook. <br />On GitHub, the HTML representation is unable to render, please try loading this page with nbviewer.org.</b></div><div class=\"sk-container\" hidden><div class=\"sk-item sk-dashed-wrapped\"><div class=\"sk-label-container\"><div class=\"sk-label sk-toggleable\"><input class=\"sk-toggleable__control sk-hidden--visually\" id=\"sk-estimator-id-1\" type=\"checkbox\" ><label for=\"sk-estimator-id-1\" class=\"sk-toggleable__label sk-toggleable__label-arrow\">GridSearchCV</label><div class=\"sk-toggleable__content\"><pre>GridSearchCV(estimator=SVC(probability=True), n_jobs=-1,\n",
       "             param_grid={&#x27;C&#x27;: [0.1, 1, 10], &#x27;gamma&#x27;: [1, 0.1, 0.001, 0.0001],\n",
       "                         &#x27;kernel&#x27;: [&#x27;linear&#x27;, &#x27;rbf&#x27;]},\n",
       "             verbose=2)</pre></div></div></div><div class=\"sk-parallel\"><div class=\"sk-parallel-item\"><div class=\"sk-item\"><div class=\"sk-label-container\"><div class=\"sk-label sk-toggleable\"><input class=\"sk-toggleable__control sk-hidden--visually\" id=\"sk-estimator-id-2\" type=\"checkbox\" ><label for=\"sk-estimator-id-2\" class=\"sk-toggleable__label sk-toggleable__label-arrow\">estimator: SVC</label><div class=\"sk-toggleable__content\"><pre>SVC(probability=True)</pre></div></div></div><div class=\"sk-serial\"><div class=\"sk-item\"><div class=\"sk-estimator sk-toggleable\"><input class=\"sk-toggleable__control sk-hidden--visually\" id=\"sk-estimator-id-3\" type=\"checkbox\" ><label for=\"sk-estimator-id-3\" class=\"sk-toggleable__label sk-toggleable__label-arrow\">SVC</label><div class=\"sk-toggleable__content\"><pre>SVC(probability=True)</pre></div></div></div></div></div></div></div></div></div></div>"
      ],
      "text/plain": [
       "GridSearchCV(estimator=SVC(probability=True), n_jobs=-1,\n",
       "             param_grid={'C': [0.1, 1, 10], 'gamma': [1, 0.1, 0.001, 0.0001],\n",
       "                         'kernel': ['linear', 'rbf']},\n",
       "             verbose=2)"
      ]
     },
     "execution_count": 14,
     "metadata": {},
     "output_type": "execute_result"
    }
   ],
   "source": [
    "%%time\n",
    "#fit the transformed data\n",
    "grid.fit(list(train_df_transformed), train_df.related_manual)"
   ]
  },
  {
   "cell_type": "code",
   "execution_count": 15,
   "id": "1ae52846-b02d-4970-92df-500ba69079bf",
   "metadata": {
    "tags": []
   },
   "outputs": [
    {
     "data": {
      "text/plain": [
       "{'C': 10, 'gamma': 0.1, 'kernel': 'rbf'}"
      ]
     },
     "execution_count": 15,
     "metadata": {},
     "output_type": "execute_result"
    }
   ],
   "source": [
    "#best grid estimator\n",
    "grid.best_params_"
   ]
  },
  {
   "cell_type": "code",
   "execution_count": 16,
   "id": "6b58aa73-43f6-4f46-91a6-23cccfb25ddf",
   "metadata": {
    "tags": []
   },
   "outputs": [
    {
     "name": "stdout",
     "output_type": "stream",
     "text": [
      "CPU times: user 57 ms, sys: 1.62 ms, total: 58.6 ms\n",
      "Wall time: 58.1 ms\n"
     ]
    }
   ],
   "source": [
    "%%time\n",
    "#predict class probablities\n",
    "preds = grid.predict_proba(list(test_df_transformed))"
   ]
  },
  {
   "cell_type": "code",
   "execution_count": 17,
   "id": "369b66f0-991b-4749-8ec3-621c1a0aab2b",
   "metadata": {
    "tags": []
   },
   "outputs": [],
   "source": [
    "#convert into binary class predictions\n",
    "preds_binary = preds[:,1] >= 0.5\n",
    "preds_binary = preds_binary.astype(np.int64) "
   ]
  },
  {
   "cell_type": "code",
   "execution_count": 20,
   "id": "4ad13b51-058c-4f97-8e40-2ce38f30fbad",
   "metadata": {
    "tags": []
   },
   "outputs": [
    {
     "name": "stdout",
     "output_type": "stream",
     "text": [
      "Accuracy: 93.8%\n",
      "[238  12  19 231]\n",
      "TP: 238\n",
      "FP: 19\n",
      "TN: 231\n",
      "FN: 12\n",
      "Sensitivity: 95.2%\n",
      "Specificity: 92.4%\n",
      "Precision: 92.607%\n",
      "Recall: 95.2%\n",
      "f1: 93.886%\n"
     ]
    },
    {
     "data": {
      "image/png": "[encoded data removed]",
      "text/plain": [
       "<Figure size 640x480 with 2 Axes>"
      ]
     },
     "metadata": {},
     "output_type": "display_data"
    },
    {
     "data": {
      "image/png": "[encoded data removed]",
      "text/plain": [
       "<Figure size 640x480 with 1 Axes>"
      ]
     },
     "metadata": {},
     "output_type": "display_data"
    }
   ],
   "source": [
    "#generate performance report\n",
    "performance(test_df.related_manual,preds_binary,preds[:,1])"
   ]
  },
  {
   "cell_type": "markdown",
   "id": "dd10eccf-e0b2-4639-8a0d-51edec41b6e3",
   "metadata": {},
   "source": [
    "Now let us repeat the same experiment with cleaned tweets"
   ]
  },
  {
   "cell_type": "code",
   "execution_count": 7,
   "id": "817838f3-7a3e-4815-92aa-7cf8baf9810b",
   "metadata": {
    "tags": []
   },
   "outputs": [],
   "source": [
    "#Add the cleaned tweet word2vec vectors to the context word2vec vectors\n",
    "train_df_transformed_cleaned = (train_df_cleaned['tweet_word2vec_preprocessed']+train_df_cleaned['context_word2vec'])\n",
    "test_df_transformed_cleaned = (test_df_cleaned['tweet_word2vec_preprocessed']+test_df_cleaned['context_word2vec'])"
   ]
  },
  {
   "cell_type": "code",
   "execution_count": 8,
   "id": "b1a7b67f-96f3-4730-9669-bf11f35d7443",
   "metadata": {
    "tags": []
   },
   "outputs": [],
   "source": [
    "grid_cleaned = GridSearchCV(SVC(probability=True),param_grid,refit = True, verbose=2, n_jobs=-1)"
   ]
  },
  {
   "cell_type": "code",
   "execution_count": 10,
   "id": "61c410da-a8d0-4913-88d3-e382fa88ba9d",
   "metadata": {
    "tags": []
   },
   "outputs": [
    {
     "name": "stdout",
     "output_type": "stream",
     "text": [
      "Fitting 5 folds for each of 24 candidates, totalling 120 fits\n",
      "CPU times: user 11.6 s, sys: 1.32 s, total: 12.9 s\n",
      "Wall time: 1min 19s\n"
     ]
    },
    {
     "data": {
      "text/html": [
       "<style>#sk-container-id-1 {color: black;}#sk-container-id-1 pre{padding: 0;}#sk-container-id-1 div.sk-toggleable {background-color: white;}#sk-container-id-1 label.sk-toggleable__label {cursor: pointer;display: block;width: 100%;margin-bottom: 0;padding: 0.3em;box-sizing: border-box;text-align: center;}#sk-container-id-1 label.sk-toggleable__label-arrow:before {content: \"▸\";float: left;margin-right: 0.25em;color: #696969;}#sk-container-id-1 label.sk-toggleable__label-arrow:hover:before {color: black;}#sk-container-id-1 div.sk-estimator:hover label.sk-toggleable__label-arrow:before {color: black;}#sk-container-id-1 div.sk-toggleable__content {max-height: 0;max-width: 0;overflow: hidden;text-align: left;background-color: #f0f8ff;}#sk-container-id-1 div.sk-toggleable__content pre {margin: 0.2em;color: black;border-radius: 0.25em;background-color: #f0f8ff;}#sk-container-id-1 input.sk-toggleable__control:checked~div.sk-toggleable__content {max-height: 200px;max-width: 100%;overflow: auto;}#sk-container-id-1 input.sk-toggleable__control:checked~label.sk-toggleable__label-arrow:before {content: \"▾\";}#sk-container-id-1 div.sk-estimator input.sk-toggleable__control:checked~label.sk-toggleable__label {background-color: #d4ebff;}#sk-container-id-1 div.sk-label input.sk-toggleable__control:checked~label.sk-toggleable__label {background-color: #d4ebff;}#sk-container-id-1 input.sk-hidden--visually {border: 0;clip: rect(1px 1px 1px 1px);clip: rect(1px, 1px, 1px, 1px);height: 1px;margin: -1px;overflow: hidden;padding: 0;position: absolute;width: 1px;}#sk-container-id-1 div.sk-estimator {font-family: monospace;background-color: #f0f8ff;border: 1px dotted black;border-radius: 0.25em;box-sizing: border-box;margin-bottom: 0.5em;}#sk-container-id-1 div.sk-estimator:hover {background-color: #d4ebff;}#sk-container-id-1 div.sk-parallel-item::after {content: \"\";width: 100%;border-bottom: 1px solid gray;flex-grow: 1;}#sk-container-id-1 div.sk-label:hover label.sk-toggleable__label {background-color: #d4ebff;}#sk-container-id-1 div.sk-serial::before {content: \"\";position: absolute;border-left: 1px solid gray;box-sizing: border-box;top: 0;bottom: 0;left: 50%;z-index: 0;}#sk-container-id-1 div.sk-serial {display: flex;flex-direction: column;align-items: center;background-color: white;padding-right: 0.2em;padding-left: 0.2em;position: relative;}#sk-container-id-1 div.sk-item {position: relative;z-index: 1;}#sk-container-id-1 div.sk-parallel {display: flex;align-items: stretch;justify-content: center;background-color: white;position: relative;}#sk-container-id-1 div.sk-item::before, #sk-container-id-1 div.sk-parallel-item::before {content: \"\";position: absolute;border-left: 1px solid gray;box-sizing: border-box;top: 0;bottom: 0;left: 50%;z-index: -1;}#sk-container-id-1 div.sk-parallel-item {display: flex;flex-direction: column;z-index: 1;position: relative;background-color: white;}#sk-container-id-1 div.sk-parallel-item:first-child::after {align-self: flex-end;width: 50%;}#sk-container-id-1 div.sk-parallel-item:last-child::after {align-self: flex-start;width: 50%;}#sk-container-id-1 div.sk-parallel-item:only-child::after {width: 0;}#sk-container-id-1 div.sk-dashed-wrapped {border: 1px dashed gray;margin: 0 0.4em 0.5em 0.4em;box-sizing: border-box;padding-bottom: 0.4em;background-color: white;}#sk-container-id-1 div.sk-label label {font-family: monospace;font-weight: bold;display: inline-block;line-height: 1.2em;}#sk-container-id-1 div.sk-label-container {text-align: center;}#sk-container-id-1 div.sk-container {/* jupyter's `normalize.less` sets `[hidden] { display: none; }` but bootstrap.min.css set `[hidden] { display: none !important; }` so we also need the `!important` here to be able to override the default hidden behavior on the sphinx rendered scikit-learn.org. See: https://github.com/scikit-learn/scikit-learn/issues/21755 */display: inline-block !important;position: relative;}#sk-container-id-1 div.sk-text-repr-fallback {display: none;}</style><div id=\"sk-container-id-1\" class=\"sk-top-container\"><div class=\"sk-text-repr-fallback\"><pre>GridSearchCV(estimator=SVC(probability=True), n_jobs=-1,\n",
       "             param_grid={&#x27;C&#x27;: [0.1, 1, 10], &#x27;gamma&#x27;: [1, 0.1, 0.001, 0.0001],\n",
       "                         &#x27;kernel&#x27;: [&#x27;linear&#x27;, &#x27;rbf&#x27;]},\n",
       "             verbose=2)</pre><b>In a Jupyter environment, please rerun this cell to show the HTML representation or trust the notebook. <br />On GitHub, the HTML representation is unable to render, please try loading this page with nbviewer.org.</b></div><div class=\"sk-container\" hidden><div class=\"sk-item sk-dashed-wrapped\"><div class=\"sk-label-container\"><div class=\"sk-label sk-toggleable\"><input class=\"sk-toggleable__control sk-hidden--visually\" id=\"sk-estimator-id-1\" type=\"checkbox\" ><label for=\"sk-estimator-id-1\" class=\"sk-toggleable__label sk-toggleable__label-arrow\">GridSearchCV</label><div class=\"sk-toggleable__content\"><pre>GridSearchCV(estimator=SVC(probability=True), n_jobs=-1,\n",
       "             param_grid={&#x27;C&#x27;: [0.1, 1, 10], &#x27;gamma&#x27;: [1, 0.1, 0.001, 0.0001],\n",
       "                         &#x27;kernel&#x27;: [&#x27;linear&#x27;, &#x27;rbf&#x27;]},\n",
       "             verbose=2)</pre></div></div></div><div class=\"sk-parallel\"><div class=\"sk-parallel-item\"><div class=\"sk-item\"><div class=\"sk-label-container\"><div class=\"sk-label sk-toggleable\"><input class=\"sk-toggleable__control sk-hidden--visually\" id=\"sk-estimator-id-2\" type=\"checkbox\" ><label for=\"sk-estimator-id-2\" class=\"sk-toggleable__label sk-toggleable__label-arrow\">estimator: SVC</label><div class=\"sk-toggleable__content\"><pre>SVC(probability=True)</pre></div></div></div><div class=\"sk-serial\"><div class=\"sk-item\"><div class=\"sk-estimator sk-toggleable\"><input class=\"sk-toggleable__control sk-hidden--visually\" id=\"sk-estimator-id-3\" type=\"checkbox\" ><label for=\"sk-estimator-id-3\" class=\"sk-toggleable__label sk-toggleable__label-arrow\">SVC</label><div class=\"sk-toggleable__content\"><pre>SVC(probability=True)</pre></div></div></div></div></div></div></div></div></div></div>"
      ],
      "text/plain": [
       "GridSearchCV(estimator=SVC(probability=True), n_jobs=-1,\n",
       "             param_grid={'C': [0.1, 1, 10], 'gamma': [1, 0.1, 0.001, 0.0001],\n",
       "                         'kernel': ['linear', 'rbf']},\n",
       "             verbose=2)"
      ]
     },
     "execution_count": 10,
     "metadata": {},
     "output_type": "execute_result"
    }
   ],
   "source": [
    "%%time\n",
    "grid_cleaned.fit(list(train_df_transformed_cleaned), train_df_cleaned.related_manual)"
   ]
  },
  {
   "cell_type": "code",
   "execution_count": 29,
   "id": "8f331a4c-d506-4ed7-b442-3153311ca3e8",
   "metadata": {
    "tags": []
   },
   "outputs": [
    {
     "data": {
      "text/plain": [
       "{'C': 1, 'gamma': 0.1, 'kernel': 'rbf'}"
      ]
     },
     "execution_count": 29,
     "metadata": {},
     "output_type": "execute_result"
    }
   ],
   "source": [
    "grid_cleaned.best_params_"
   ]
  },
  {
   "cell_type": "code",
   "execution_count": 11,
   "id": "137bc495-67f6-47b7-be9e-8163bdae232b",
   "metadata": {
    "tags": []
   },
   "outputs": [
    {
     "name": "stdout",
     "output_type": "stream",
     "text": [
      "CPU times: user 64.2 ms, sys: 2.44 ms, total: 66.7 ms\n",
      "Wall time: 65.8 ms\n"
     ]
    }
   ],
   "source": [
    "%%time\n",
    "preds_cleaned = grid_cleaned.predict_proba(list(test_df_transformed_cleaned))"
   ]
  },
  {
   "cell_type": "code",
   "execution_count": 12,
   "id": "709ea838-7d8d-4c20-8869-9f9db6b6d437",
   "metadata": {
    "tags": []
   },
   "outputs": [],
   "source": [
    "preds_binary_cleaned = preds_cleaned[:,1] >= 0.5\n",
    "preds_binary_cleaned = preds_binary_cleaned.astype(np.int64) "
   ]
  },
  {
   "cell_type": "code",
   "execution_count": 13,
   "id": "516b0625-9c8e-4221-b234-777af72b720a",
   "metadata": {
    "tags": []
   },
   "outputs": [
    {
     "name": "stdout",
     "output_type": "stream",
     "text": [
      "Accuracy: 92.2%\n",
      "[232  18  21 229]\n",
      "TP: 232\n",
      "FP: 21\n",
      "TN: 229\n",
      "FN: 18\n",
      "Sensitivity: 92.8%\n",
      "Specificity: 91.6%\n",
      "Precision: 91.7%\n",
      "Recall: 92.8%\n",
      "f1: 92.247%\n"
     ]
    },
    {
     "data": {
      "image/png": "[encoded data removed]",
      "text/plain": [
       "<Figure size 640x480 with 2 Axes>"
      ]
     },
     "metadata": {},
     "output_type": "display_data"
    },
    {
     "data": {
      "image/png": "[encoded data removed]",
      "text/plain": [
       "<Figure size 640x480 with 1 Axes>"
      ]
     },
     "metadata": {},
     "output_type": "display_data"
    },
    {
     "name": "stdout",
     "output_type": "stream",
     "text": [
      "[CV] END ......................C=0.1, gamma=1, kernel=linear; total time=   4.9s\n",
      "[CV] END ....................C=0.1, gamma=0.1, kernel=linear; total time=   4.5s\n",
      "[CV] END .......................C=0.1, gamma=0.1, kernel=rbf; total time=   8.0s\n",
      "[CV] END .................C=0.1, gamma=0.0001, kernel=linear; total time=   4.6s\n",
      "[CV] END ........................C=1, gamma=1, kernel=linear; total time=   3.1s\n",
      "[CV] END ........................C=1, gamma=1, kernel=linear; total time=   3.6s\n",
      "[CV] END ........................C=1, gamma=1, kernel=linear; total time=   3.1s\n",
      "[CV] END ......................C=1, gamma=0.1, kernel=linear; total time=   3.4s\n",
      "[CV] END .........................C=1, gamma=0.1, kernel=rbf; total time=   4.5s\n",
      "[CV] END ....................C=1, gamma=0.001, kernel=linear; total time=   3.4s\n",
      "[CV] END ...................C=1, gamma=0.0001, kernel=linear; total time=   3.5s\n",
      "[CV] END ......................C=1, gamma=0.0001, kernel=rbf; total time=  14.1s\n",
      "[CV] END ........................C=10, gamma=0.1, kernel=rbf; total time=   3.8s\n",
      "[CV] END ......................C=10, gamma=0.001, kernel=rbf; total time=   6.3s\n",
      "[CV] END ......................C=0.1, gamma=1, kernel=linear; total time=   4.7s\n",
      "[CV] END ....................C=0.1, gamma=0.1, kernel=linear; total time=   4.8s\n",
      "[CV] END ..................C=0.1, gamma=0.001, kernel=linear; total time=   4.4s\n",
      "[CV] END ..................C=0.1, gamma=0.001, kernel=linear; total time=   4.1s\n",
      "[CV] END ....................C=0.1, gamma=0.0001, kernel=rbf; total time=  15.1s\n",
      "[CV] END ......................C=1, gamma=0.1, kernel=linear; total time=   3.4s\n",
      "[CV] END .........................C=1, gamma=0.1, kernel=rbf; total time=   3.9s\n",
      "[CV] END .......................C=1, gamma=0.001, kernel=rbf; total time=  13.3s\n",
      "[CV] END ..........................C=10, gamma=1, kernel=rbf; total time=  13.5s\n",
      "[CV] END ..................C=10, gamma=0.0001, kernel=linear; total time=   3.6s\n",
      "[CV] END ....................C=0.1, gamma=0.1, kernel=linear; total time=   4.6s\n",
      "[CV] END .......................C=0.1, gamma=0.1, kernel=rbf; total time=   9.6s\n",
      "[CV] END .....................C=0.1, gamma=0.001, kernel=rbf; total time=  15.3s\n",
      "[CV] END ...........................C=1, gamma=1, kernel=rbf; total time=  13.5s\n",
      "[CV] END ...................C=1, gamma=0.0001, kernel=linear; total time=   3.4s\n",
      "[CV] END .......................C=10, gamma=1, kernel=linear; total time=   3.6s\n",
      "[CV] END .......................C=10, gamma=1, kernel=linear; total time=   3.4s\n",
      "[CV] END ..........................C=10, gamma=1, kernel=rbf; total time=  13.0s\n",
      "[CV] END ..................C=10, gamma=0.0001, kernel=linear; total time=   3.8s\n",
      "[CV] END ....................C=0.1, gamma=0.1, kernel=linear; total time=   4.9s\n",
      "[CV] END .......................C=0.1, gamma=0.1, kernel=rbf; total time=   9.3s\n",
      "[CV] END .....................C=0.1, gamma=0.001, kernel=rbf; total time=  15.4s\n",
      "[CV] END ...........................C=1, gamma=1, kernel=rbf; total time=  13.4s\n",
      "[CV] END ......................C=1, gamma=0.0001, kernel=rbf; total time=  14.5s\n",
      "[CV] END .....................C=10, gamma=0.1, kernel=linear; total time=   3.3s\n",
      "[CV] END ...................C=10, gamma=0.001, kernel=linear; total time=   3.0s\n",
      "[CV] END ......................C=10, gamma=0.001, kernel=rbf; total time=   6.8s\n",
      "[CV] END ......................C=0.1, gamma=1, kernel=linear; total time=   4.5s\n",
      "[CV] END ....................C=0.1, gamma=0.1, kernel=linear; total time=   5.1s\n",
      "[CV] END ..................C=0.1, gamma=0.001, kernel=linear; total time=   4.0s\n",
      "[CV] END ..................C=0.1, gamma=0.001, kernel=linear; total time=   4.4s\n",
      "[CV] END .................C=0.1, gamma=0.0001, kernel=linear; total time=   4.3s\n",
      "[CV] END ........................C=1, gamma=1, kernel=linear; total time=   3.3s\n",
      "[CV] END ........................C=1, gamma=1, kernel=linear; total time=   3.3s\n",
      "[CV] END ...........................C=1, gamma=1, kernel=rbf; total time=  13.0s\n",
      "[CV] END .......................C=1, gamma=0.001, kernel=rbf; total time=  12.7s\n",
      "[CV] END .....................C=10, gamma=0.1, kernel=linear; total time=   3.0s\n",
      "[CV] END .....................C=10, gamma=0.1, kernel=linear; total time=   3.8s\n",
      "[CV] END ........................C=10, gamma=0.1, kernel=rbf; total time=   3.5s\n",
      "[CV] END ......................C=10, gamma=0.001, kernel=rbf; total time=   6.9s\n",
      "[CV] END .........................C=0.1, gamma=1, kernel=rbf; total time=  15.8s\n",
      "[CV] END .....................C=0.1, gamma=0.001, kernel=rbf; total time=  15.4s\n",
      "[CV] END ...........................C=1, gamma=1, kernel=rbf; total time=  13.0s\n",
      "[CV] END ......................C=1, gamma=0.0001, kernel=rbf; total time=  14.4s\n",
      "[CV] END .....................C=10, gamma=0.1, kernel=linear; total time=   3.7s\n",
      "[CV] END ...................C=10, gamma=0.001, kernel=linear; total time=   3.6s\n",
      "[CV] END ......................C=10, gamma=0.001, kernel=rbf; total time=   6.5s\n",
      "[CV] END .........................C=0.1, gamma=1, kernel=rbf; total time=  16.1s\n",
      "[CV] END .....................C=0.1, gamma=0.001, kernel=rbf; total time=  15.2s\n",
      "[CV] END ......................C=1, gamma=0.1, kernel=linear; total time=   3.0s\n",
      "[CV] END ......................C=1, gamma=0.1, kernel=linear; total time=   3.1s\n",
      "[CV] END ....................C=1, gamma=0.001, kernel=linear; total time=   3.3s\n",
      "[CV] END .......................C=1, gamma=0.001, kernel=rbf; total time=  13.2s\n",
      "[CV] END ..........................C=10, gamma=1, kernel=rbf; total time=  13.1s\n",
      "[CV] END ......................C=10, gamma=0.001, kernel=rbf; total time=   5.5s\n",
      "[CV] END .........................C=0.1, gamma=1, kernel=rbf; total time=  16.2s\n",
      "[CV] END .................C=0.1, gamma=0.0001, kernel=linear; total time=   4.9s\n",
      "[CV] END ....................C=0.1, gamma=0.0001, kernel=rbf; total time=  14.9s\n",
      "[CV] END .........................C=1, gamma=0.1, kernel=rbf; total time=   4.4s\n",
      "[CV] END .......................C=1, gamma=0.001, kernel=rbf; total time=  12.8s\n",
      "[CV] END .......................C=10, gamma=1, kernel=linear; total time=   3.2s\n",
      "[CV] END .....................C=10, gamma=0.1, kernel=linear; total time=   3.5s\n",
      "[CV] END ........................C=10, gamma=0.1, kernel=rbf; total time=   3.9s\n",
      "[CV] END ...................C=10, gamma=0.001, kernel=linear; total time=   3.6s\n",
      "[CV] END .....................C=10, gamma=0.0001, kernel=rbf; total time=   7.1s\n",
      "[CV] END .........................C=0.1, gamma=1, kernel=rbf; total time=  16.4s\n",
      "[CV] END .................C=0.1, gamma=0.0001, kernel=linear; total time=   4.5s\n",
      "[CV] END ....................C=0.1, gamma=0.0001, kernel=rbf; total time=  15.0s\n",
      "[CV] END .........................C=1, gamma=0.1, kernel=rbf; total time=   4.9s\n",
      "[CV] END .......................C=1, gamma=0.001, kernel=rbf; total time=  13.2s\n",
      "[CV] END ..........................C=10, gamma=1, kernel=rbf; total time=  13.4s\n",
      "[CV] END .....................C=10, gamma=0.0001, kernel=rbf; total time=   7.1s\n",
      "[CV] END ......................C=0.1, gamma=1, kernel=linear; total time=   5.0s\n",
      "[CV] END .......................C=0.1, gamma=0.1, kernel=rbf; total time=   8.4s\n",
      "[CV] END ..................C=0.1, gamma=0.001, kernel=linear; total time=   4.7s\n",
      "[CV] END ....................C=0.1, gamma=0.0001, kernel=rbf; total time=  15.1s\n",
      "[CV] END ......................C=1, gamma=0.1, kernel=linear; total time=   3.7s\n",
      "[CV] END ....................C=1, gamma=0.001, kernel=linear; total time=   3.1s\n",
      "[CV] END ....................C=1, gamma=0.001, kernel=linear; total time=   3.2s\n",
      "[CV] END ...................C=1, gamma=0.0001, kernel=linear; total time=   3.8s\n",
      "[CV] END .......................C=10, gamma=1, kernel=linear; total time=   2.9s\n",
      "[CV] END .......................C=10, gamma=1, kernel=linear; total time=   3.9s\n",
      "[CV] END ..........................C=10, gamma=1, kernel=rbf; total time=  13.3s\n",
      "[CV] END ..................C=10, gamma=0.0001, kernel=linear; total time=   2.8s\n",
      "[CV] END .....................C=10, gamma=0.0001, kernel=rbf; total time=   5.4s\n",
      "[CV] END .........................C=0.1, gamma=1, kernel=rbf; total time=  15.9s\n",
      "[CV] END .................C=0.1, gamma=0.0001, kernel=linear; total time=   4.1s\n",
      "[CV] END ....................C=0.1, gamma=0.0001, kernel=rbf; total time=  14.7s\n",
      "[CV] END .........................C=1, gamma=0.1, kernel=rbf; total time=   3.9s\n",
      "[CV] END ....................C=1, gamma=0.001, kernel=linear; total time=   3.7s\n",
      "[CV] END ...................C=1, gamma=0.0001, kernel=linear; total time=   3.5s\n",
      "[CV] END ......................C=1, gamma=0.0001, kernel=rbf; total time=  14.2s\n",
      "[CV] END ........................C=10, gamma=0.1, kernel=rbf; total time=   4.1s\n",
      "[CV] END ...................C=10, gamma=0.001, kernel=linear; total time=   3.1s\n",
      "[CV] END ..................C=10, gamma=0.0001, kernel=linear; total time=   3.2s\n",
      "[CV] END .....................C=10, gamma=0.0001, kernel=rbf; total time=   4.5s\n",
      "[CV] END ......................C=0.1, gamma=1, kernel=linear; total time=   5.3s\n",
      "[CV] END .......................C=0.1, gamma=0.1, kernel=rbf; total time=   9.2s\n",
      "[CV] END .....................C=0.1, gamma=0.001, kernel=rbf; total time=  15.2s\n",
      "[CV] END ...........................C=1, gamma=1, kernel=rbf; total time=  13.1s\n",
      "[CV] END ...................C=1, gamma=0.0001, kernel=linear; total time=   3.1s\n",
      "[CV] END ......................C=1, gamma=0.0001, kernel=rbf; total time=  14.0s\n",
      "[CV] END ........................C=10, gamma=0.1, kernel=rbf; total time=   3.5s\n",
      "[CV] END ...................C=10, gamma=0.001, kernel=linear; total time=   4.0s\n",
      "[CV] END ..................C=10, gamma=0.0001, kernel=linear; total time=   3.4s\n",
      "[CV] END .....................C=10, gamma=0.0001, kernel=rbf; total time=   4.7s\n"
     ]
    }
   ],
   "source": [
    "performance(test_df_cleaned.related_manual,preds_binary_cleaned,preds_cleaned[:,1])"
   ]
  },
  {
   "cell_type": "markdown",
   "id": "2199c974-e4be-4973-98f3-b40676e3911c",
   "metadata": {},
   "source": [
    "<h2>Results<h2>\n",
    "<h5>Clearly, SVM gives better results with the raw tweets and with following hyperparamteters\n",
    "    <ol><li>kernel - rbf</li>\n",
    "        <li>gamma - 0.1</li>\n",
    "        <li>C - 10</li></ol><h5><br>"
   ]
  },
  {
   "cell_type": "markdown",
   "id": "ab1d77e2-3357-420b-a302-bad77a026a0f",
   "metadata": {},
   "source": [
    "| Model                    | Accuracy | TP  | FP | TN  | FN | Sensitivity | Specificity | Precision | Recall | f1-score |\n",
    "|--------------------------|----------|-----|----|-----|----|-------------|-------------|-----------|--------|----------|\n",
    "| SVM with context feature | 93.8%    | 238 | 19 | 231 | 12 | 95.2%       | 92.4%       | 92.607%   | 95.2%  | 93.886%  |"
   ]
  },
  {
   "cell_type": "markdown",
   "id": "4c43b7a1-4c90-4fd0-bcb2-4793a288c2f5",
   "metadata": {},
   "source": [
    "<h5>It is also to be noted that adding the context information reduces the accuracy and performance of the model.\n",
    "    <h5>"
   ]
  },
  {
   "cell_type": "code",
   "execution_count": 38,
   "id": "eb64aafb-1632-4bff-8be8-4a36fbd538bc",
   "metadata": {
    "collapsed": true,
    "jupyter": {
     "outputs_hidden": true
    },
    "tags": []
   },
   "outputs": [
    {
     "name": "stdout",
     "output_type": "stream",
     "text": [
      "[CV] END ....................C=0.1, gamma=0.1, kernel=linear; total time=   7.4s\n",
      "[CV] END .......................C=0.1, gamma=0.1, kernel=rbf; total time=  12.8s\n",
      "[CV] END .................C=0.1, gamma=0.0001, kernel=linear; total time=   5.9s\n",
      "[CV] END ........................C=1, gamma=1, kernel=linear; total time=   4.6s\n",
      "[CV] END ........................C=1, gamma=1, kernel=linear; total time=   3.8s\n",
      "[CV] END ...........................C=1, gamma=1, kernel=rbf; total time=   7.5s\n",
      "[CV] END ....................C=1, gamma=0.001, kernel=linear; total time=   3.9s\n",
      "[CV] END ...................C=1, gamma=0.0001, kernel=linear; total time=   3.7s\n",
      "[CV] END ......................C=1, gamma=0.0001, kernel=rbf; total time=  14.2s\n",
      "[CV] END ........................C=10, gamma=0.1, kernel=rbf; total time=   3.7s\n",
      "[CV] END ......................C=10, gamma=0.001, kernel=rbf; total time=   8.6s\n",
      "[CV] END ......................C=0.1, gamma=1, kernel=linear; total time=   3.3s\n",
      "[CV] END ....................C=0.1, gamma=0.1, kernel=linear; total time=   4.4s\n",
      "[CV] END ..................C=0.1, gamma=0.001, kernel=linear; total time=   4.3s\n",
      "[CV] END ..................C=0.1, gamma=0.001, kernel=linear; total time=   3.7s\n",
      "[CV] END .................C=0.1, gamma=0.0001, kernel=linear; total time=   4.1s\n",
      "[CV] END ....................C=0.1, gamma=0.0001, kernel=rbf; total time=  14.3s\n",
      "[CV] END .........................C=1, gamma=0.1, kernel=rbf; total time=   3.9s\n",
      "[CV] END .......................C=1, gamma=0.001, kernel=rbf; total time=  12.6s\n",
      "[CV] END ..........................C=10, gamma=1, kernel=rbf; total time=  13.0s\n",
      "[CV] END .....................C=10, gamma=0.0001, kernel=rbf; total time=   7.1s\n",
      "[CV] END ....................C=0.1, gamma=0.1, kernel=linear; total time=   4.7s\n",
      "[CV] END .......................C=0.1, gamma=0.1, kernel=rbf; total time=   8.4s\n",
      "[CV] END .....................C=0.1, gamma=0.001, kernel=rbf; total time=  14.6s\n",
      "[CV] END ...........................C=1, gamma=1, kernel=rbf; total time=  13.1s\n",
      "[CV] END ...................C=1, gamma=0.0001, kernel=linear; total time=   3.2s\n",
      "[CV] END .......................C=10, gamma=1, kernel=linear; total time=   3.2s\n",
      "[CV] END .......................C=10, gamma=1, kernel=linear; total time=   3.3s\n",
      "[CV] END ..........................C=10, gamma=1, kernel=rbf; total time=  13.0s\n",
      "[CV] END ..................C=10, gamma=0.0001, kernel=linear; total time=   3.3s\n",
      "[CV] END ......................C=0.1, gamma=1, kernel=linear; total time=   6.9s\n",
      "[CV] END ....................C=0.1, gamma=0.1, kernel=linear; total time=   5.8s\n",
      "[CV] END ..................C=0.1, gamma=0.001, kernel=linear; total time=   7.7s\n",
      "[CV] END .....................C=0.1, gamma=0.001, kernel=rbf; total time=  16.3s\n",
      "[CV] END ...........................C=1, gamma=1, kernel=rbf; total time=   7.5s\n",
      "[CV] END .......................C=1, gamma=0.001, kernel=rbf; total time=  14.7s\n",
      "[CV] END ..........................C=10, gamma=1, kernel=rbf; total time=   8.9s\n",
      "[CV] END ...................C=10, gamma=0.001, kernel=linear; total time=   3.1s\n",
      "[CV] END .....................C=10, gamma=0.0001, kernel=rbf; total time=   9.2s\n",
      "[CV] END .........................C=0.1, gamma=1, kernel=rbf; total time=  15.7s\n",
      "[CV] END .................C=0.1, gamma=0.0001, kernel=linear; total time=   4.1s\n",
      "[CV] END ....................C=0.1, gamma=0.0001, kernel=rbf; total time=  14.3s\n",
      "[CV] END .........................C=1, gamma=0.1, kernel=rbf; total time=   4.0s\n",
      "[CV] END .......................C=1, gamma=0.001, kernel=rbf; total time=  12.6s\n",
      "[CV] END ..........................C=10, gamma=1, kernel=rbf; total time=  13.2s\n",
      "[CV] END .....................C=10, gamma=0.0001, kernel=rbf; total time=   6.9s\n",
      "[CV] END ......................C=0.1, gamma=1, kernel=linear; total time=   3.8s\n",
      "[CV] END ....................C=0.1, gamma=0.1, kernel=linear; total time=   4.2s\n",
      "[CV] END ..................C=0.1, gamma=0.001, kernel=linear; total time=   4.1s\n",
      "[CV] END ..................C=0.1, gamma=0.001, kernel=linear; total time=   3.8s\n",
      "[CV] END .................C=0.1, gamma=0.0001, kernel=linear; total time=   4.2s\n",
      "[CV] END ....................C=0.1, gamma=0.0001, kernel=rbf; total time=  14.3s\n",
      "[CV] END ....................C=1, gamma=0.001, kernel=linear; total time=   3.0s\n",
      "[CV] END ....................C=1, gamma=0.001, kernel=linear; total time=   3.1s\n",
      "[CV] END ...................C=1, gamma=0.0001, kernel=linear; total time=   3.3s\n",
      "[CV] END ......................C=1, gamma=0.0001, kernel=rbf; total time=  13.9s\n",
      "[CV] END ........................C=10, gamma=0.1, kernel=rbf; total time=   3.5s\n",
      "[CV] END ......................C=10, gamma=0.001, kernel=rbf; total time=   6.3s\n",
      "[CV] END ......................C=0.1, gamma=1, kernel=linear; total time=   6.7s\n",
      "[CV] END ....................C=0.1, gamma=0.1, kernel=linear; total time=   5.7s\n",
      "[CV] END .......................C=0.1, gamma=0.1, kernel=rbf; total time=  13.2s\n",
      "[CV] END ....................C=0.1, gamma=0.0001, kernel=rbf; total time=  15.5s\n",
      "[CV] END .........................C=1, gamma=0.1, kernel=rbf; total time=   6.1s\n",
      "[CV] END ...................C=1, gamma=0.0001, kernel=linear; total time=   3.6s\n",
      "[CV] END ......................C=1, gamma=0.0001, kernel=rbf; total time=  14.1s\n",
      "[CV] END ........................C=10, gamma=0.1, kernel=rbf; total time=   3.6s\n",
      "[CV] END ......................C=10, gamma=0.001, kernel=rbf; total time=   8.7s\n",
      "[CV] END ....................C=0.1, gamma=0.1, kernel=linear; total time=   4.4s\n",
      "[CV] END .......................C=0.1, gamma=0.1, kernel=rbf; total time=   8.5s\n",
      "[CV] END .....................C=0.1, gamma=0.001, kernel=rbf; total time=  14.6s\n",
      "[CV] END ...........................C=1, gamma=1, kernel=rbf; total time=  13.2s\n",
      "[CV] END ......................C=1, gamma=0.0001, kernel=rbf; total time=  13.9s\n",
      "[CV] END .....................C=10, gamma=0.1, kernel=linear; total time=   3.2s\n",
      "[CV] END ........................C=10, gamma=0.1, kernel=rbf; total time=   3.3s\n",
      "[CV] END ......................C=10, gamma=0.001, kernel=rbf; total time=   6.2s\n",
      "[CV] END .........................C=0.1, gamma=1, kernel=rbf; total time=  15.7s\n",
      "[CV] END .................C=0.1, gamma=0.0001, kernel=linear; total time=   4.1s\n",
      "[CV] END ........................C=1, gamma=1, kernel=linear; total time=   3.2s\n",
      "[CV] END ........................C=1, gamma=1, kernel=linear; total time=   3.2s\n",
      "[CV] END ........................C=1, gamma=1, kernel=linear; total time=   3.1s\n",
      "[CV] END ......................C=1, gamma=0.1, kernel=linear; total time=   3.0s\n",
      "[CV] END ......................C=1, gamma=0.1, kernel=linear; total time=   3.1s\n",
      "[CV] END ....................C=1, gamma=0.001, kernel=linear; total time=   3.1s\n",
      "[CV] END .......................C=1, gamma=0.001, kernel=rbf; total time=  12.4s\n",
      "[CV] END ..........................C=10, gamma=1, kernel=rbf; total time=  12.7s\n",
      "[CV] END ..................C=10, gamma=0.0001, kernel=linear; total time=   3.3s\n",
      "[CV] END ......................C=0.1, gamma=1, kernel=linear; total time=   7.0s\n",
      "[CV] END ....................C=0.1, gamma=0.1, kernel=linear; total time=   5.7s\n",
      "[CV] END ..................C=0.1, gamma=0.001, kernel=linear; total time=   7.6s\n",
      "[CV] END .....................C=0.1, gamma=0.001, kernel=rbf; total time=  16.2s\n",
      "[CV] END ......................C=1, gamma=0.1, kernel=linear; total time=   3.5s\n",
      "[CV] END .........................C=1, gamma=0.1, kernel=rbf; total time=   6.0s\n",
      "[CV] END .......................C=1, gamma=0.001, kernel=rbf; total time=  14.6s\n",
      "[CV] END ..........................C=10, gamma=1, kernel=rbf; total time=   8.8s\n",
      "[CV] END ..................C=10, gamma=0.0001, kernel=linear; total time=   3.3s\n",
      "[CV] END .....................C=10, gamma=0.0001, kernel=rbf; total time=   7.3s\n",
      "[CV] END .........................C=0.1, gamma=1, kernel=rbf; total time=  15.7s\n",
      "[CV] END .................C=0.1, gamma=0.0001, kernel=linear; total time=   4.2s\n",
      "[CV] END ........................C=1, gamma=1, kernel=linear; total time=   3.1s\n",
      "[CV] END ........................C=1, gamma=1, kernel=linear; total time=   3.1s\n",
      "[CV] END ........................C=1, gamma=1, kernel=linear; total time=   3.0s\n",
      "[CV] END ...........................C=1, gamma=1, kernel=rbf; total time=  13.5s\n",
      "[CV] END ......................C=1, gamma=0.0001, kernel=rbf; total time=  13.8s\n",
      "[CV] END .....................C=10, gamma=0.1, kernel=linear; total time=   3.2s\n",
      "[CV] END ...................C=10, gamma=0.001, kernel=linear; total time=   3.0s\n",
      "[CV] END ......................C=10, gamma=0.001, kernel=rbf; total time=   5.6s\n",
      "[CV] END ....................C=0.1, gamma=0.1, kernel=linear; total time=   4.6s\n",
      "[CV] END .......................C=0.1, gamma=0.1, kernel=rbf; total time=   8.5s\n",
      "[CV] END .....................C=0.1, gamma=0.001, kernel=rbf; total time=  14.5s\n",
      "[CV] END ...........................C=1, gamma=1, kernel=rbf; total time=  13.1s\n",
      "[CV] END ......................C=1, gamma=0.0001, kernel=rbf; total time=  14.1s\n",
      "[CV] END .....................C=10, gamma=0.1, kernel=linear; total time=   3.1s\n",
      "[CV] END ...................C=10, gamma=0.001, kernel=linear; total time=   3.1s\n",
      "[CV] END ......................C=10, gamma=0.001, kernel=rbf; total time=   6.2s\n",
      "[CV] END ......................C=0.1, gamma=1, kernel=linear; total time=   7.0s\n",
      "[CV] END .......................C=0.1, gamma=0.1, kernel=rbf; total time=  13.1s\n",
      "[CV] END .................C=0.1, gamma=0.0001, kernel=linear; total time=   5.9s\n",
      "[CV] END ....................C=0.1, gamma=0.0001, kernel=rbf; total time=  15.4s\n",
      "[CV] END .........................C=1, gamma=0.1, kernel=rbf; total time=   6.1s\n",
      "[CV] END ......................C=1, gamma=0.0001, kernel=rbf; total time=  14.3s\n",
      "[CV] END .....................C=10, gamma=0.1, kernel=linear; total time=   3.1s\n",
      "[CV] END ...................C=10, gamma=0.001, kernel=linear; total time=   3.2s\n",
      "[CV] END ......................C=10, gamma=0.001, kernel=rbf; total time=   8.7s\n",
      "[CV] END .........................C=0.1, gamma=1, kernel=rbf; total time=  15.6s\n",
      "[CV] END .................C=0.1, gamma=0.0001, kernel=linear; total time=   4.3s\n",
      "[CV] END ....................C=0.1, gamma=0.0001, kernel=rbf; total time=  14.3s\n",
      "[CV] END ....................C=1, gamma=0.001, kernel=linear; total time=   3.1s\n",
      "[CV] END ....................C=1, gamma=0.001, kernel=linear; total time=   3.2s\n",
      "[CV] END ...................C=1, gamma=0.0001, kernel=linear; total time=   3.3s\n",
      "[CV] END ......................C=1, gamma=0.0001, kernel=rbf; total time=  13.7s\n",
      "[CV] END ........................C=10, gamma=0.1, kernel=rbf; total time=   3.5s\n",
      "[CV] END ......................C=10, gamma=0.001, kernel=rbf; total time=   6.3s\n",
      "[CV] END .....................C=10, gamma=0.0001, kernel=rbf; total time=   4.5s\n",
      "[CV] END ......................C=0.1, gamma=1, kernel=linear; total time=   4.0s\n",
      "[CV] END .......................C=0.1, gamma=0.1, kernel=rbf; total time=   8.3s\n",
      "[CV] END ..................C=0.1, gamma=0.001, kernel=linear; total time=   3.8s\n",
      "[CV] END .................C=0.1, gamma=0.0001, kernel=linear; total time=   4.2s\n",
      "[CV] END ........................C=1, gamma=1, kernel=linear; total time=   3.1s\n",
      "[CV] END ........................C=1, gamma=1, kernel=linear; total time=   3.1s\n",
      "[CV] END ...........................C=1, gamma=1, kernel=rbf; total time=  13.0s\n",
      "[CV] END .......................C=1, gamma=0.001, kernel=rbf; total time=  12.3s\n",
      "[CV] END .....................C=10, gamma=0.1, kernel=linear; total time=   3.2s\n",
      "[CV] END .....................C=10, gamma=0.1, kernel=linear; total time=   3.2s\n",
      "[CV] END ........................C=10, gamma=0.1, kernel=rbf; total time=   3.2s\n",
      "[CV] END ......................C=10, gamma=0.001, kernel=rbf; total time=   6.1s\n",
      "[CV] END ......................C=0.1, gamma=1, kernel=linear; total time=   7.0s\n",
      "[CV] END .......................C=0.1, gamma=0.1, kernel=rbf; total time=  13.3s\n",
      "[CV] END .....................C=0.1, gamma=0.001, kernel=rbf; total time=  16.2s\n",
      "[CV] END ......................C=1, gamma=0.1, kernel=linear; total time=   3.5s\n",
      "[CV] END ......................C=1, gamma=0.1, kernel=linear; total time=   3.4s\n",
      "[CV] END .......................C=1, gamma=0.001, kernel=rbf; total time=  14.5s\n",
      "[CV] END ..........................C=10, gamma=1, kernel=rbf; total time=   9.0s\n",
      "[CV] END ...................C=10, gamma=0.001, kernel=linear; total time=   3.2s\n",
      "[CV] END ..................C=10, gamma=0.0001, kernel=linear; total time=   3.3s\n",
      "[CV] END ......................C=0.1, gamma=1, kernel=linear; total time=   3.2s\n",
      "[CV] END ....................C=0.1, gamma=0.1, kernel=linear; total time=   4.4s\n",
      "[CV] END .......................C=0.1, gamma=0.1, kernel=rbf; total time=   8.1s\n",
      "[CV] END .....................C=0.1, gamma=0.001, kernel=rbf; total time=  14.7s\n",
      "[CV] END ......................C=1, gamma=0.1, kernel=linear; total time=   3.1s\n",
      "[CV] END .........................C=1, gamma=0.1, kernel=rbf; total time=   4.0s\n",
      "[CV] END ....................C=1, gamma=0.001, kernel=linear; total time=   3.3s\n",
      "[CV] END ...................C=1, gamma=0.0001, kernel=linear; total time=   3.2s\n",
      "[CV] END ......................C=1, gamma=0.0001, kernel=rbf; total time=  13.6s\n",
      "[CV] END ........................C=10, gamma=0.1, kernel=rbf; total time=   3.6s\n",
      "[CV] END ...................C=10, gamma=0.001, kernel=linear; total time=   3.1s\n",
      "[CV] END ..................C=10, gamma=0.0001, kernel=linear; total time=   3.5s\n",
      "[CV] END ......................C=0.1, gamma=1, kernel=linear; total time=   4.3s\n",
      "[CV] END .......................C=0.1, gamma=0.1, kernel=rbf; total time=   8.2s\n",
      "[CV] END .....................C=0.1, gamma=0.001, kernel=rbf; total time=  14.5s\n",
      "[CV] END ...........................C=1, gamma=1, kernel=rbf; total time=  13.0s\n",
      "[CV] END ...................C=1, gamma=0.0001, kernel=linear; total time=   3.2s\n",
      "[CV] END ......................C=1, gamma=0.0001, kernel=rbf; total time=  13.8s\n",
      "[CV] END .....................C=10, gamma=0.1, kernel=linear; total time=   3.2s\n",
      "[CV] END ...................C=10, gamma=0.001, kernel=linear; total time=   3.0s\n",
      "[CV] END ......................C=10, gamma=0.001, kernel=rbf; total time=   5.6s\n",
      "[CV] END .........................C=0.1, gamma=1, kernel=rbf; total time=  13.0s\n",
      "[CV] END .....................C=0.1, gamma=0.001, kernel=rbf; total time=  18.7s\n",
      "[CV] END ........................C=1, gamma=1, kernel=linear; total time=   3.8s\n",
      "[CV] END ...........................C=1, gamma=1, kernel=rbf; total time=   7.4s\n",
      "[CV] END ....................C=1, gamma=0.001, kernel=linear; total time=   3.8s\n",
      "[CV] END ...................C=1, gamma=0.0001, kernel=linear; total time=   3.8s\n",
      "[CV] END ......................C=1, gamma=0.0001, kernel=rbf; total time=  14.1s\n",
      "[CV] END ........................C=10, gamma=0.1, kernel=rbf; total time=   3.8s\n",
      "[CV] END ......................C=10, gamma=0.001, kernel=rbf; total time=   8.7s\n",
      "[CV] END ....................C=0.1, gamma=0.1, kernel=linear; total time=   4.5s\n",
      "[CV] END .......................C=0.1, gamma=0.1, kernel=rbf; total time=   8.5s\n",
      "[CV] END .....................C=0.1, gamma=0.001, kernel=rbf; total time=  14.7s\n",
      "[CV] END ...........................C=1, gamma=1, kernel=rbf; total time=  13.2s\n",
      "[CV] END ...................C=1, gamma=0.0001, kernel=linear; total time=   3.2s\n",
      "[CV] END .......................C=10, gamma=1, kernel=linear; total time=   3.2s\n",
      "[CV] END .......................C=10, gamma=1, kernel=linear; total time=   3.4s\n",
      "[CV] END ..........................C=10, gamma=1, kernel=rbf; total time=  12.9s\n",
      "[CV] END ..................C=10, gamma=0.0001, kernel=linear; total time=   3.1s\n",
      "[CV] END .....................C=10, gamma=0.0001, kernel=rbf; total time=   4.7s\n",
      "[CV] END .........................C=0.1, gamma=1, kernel=rbf; total time=  15.7s\n",
      "[CV] END .................C=0.1, gamma=0.0001, kernel=linear; total time=   4.1s\n",
      "[CV] END ....................C=0.1, gamma=0.0001, kernel=rbf; total time=  14.4s\n",
      "[CV] END .........................C=1, gamma=0.1, kernel=rbf; total time=   3.9s\n",
      "[CV] END .......................C=1, gamma=0.001, kernel=rbf; total time=  12.6s\n",
      "[CV] END ..........................C=10, gamma=1, kernel=rbf; total time=  13.1s\n",
      "[CV] END ......................C=10, gamma=0.001, kernel=rbf; total time=   5.4s\n",
      "[CV] END .........................C=0.1, gamma=1, kernel=rbf; total time=  12.9s\n",
      "[CV] END .....................C=0.1, gamma=0.001, kernel=rbf; total time=  18.6s\n",
      "[CV] END ...........................C=1, gamma=1, kernel=rbf; total time=   8.0s\n",
      "[CV] END ......................C=1, gamma=0.1, kernel=linear; total time=   3.5s\n",
      "[CV] END ....................C=1, gamma=0.001, kernel=linear; total time=   3.7s\n",
      "[CV] END ...................C=1, gamma=0.0001, kernel=linear; total time=   3.7s\n",
      "[CV] END .......................C=10, gamma=1, kernel=linear; total time=   3.4s\n",
      "[CV] END .......................C=10, gamma=1, kernel=linear; total time=   3.3s\n",
      "[CV] END ..........................C=10, gamma=1, kernel=rbf; total time=   9.1s\n",
      "[CV] END ...................C=10, gamma=0.001, kernel=linear; total time=   3.2s\n",
      "[CV] END .....................C=10, gamma=0.0001, kernel=rbf; total time=   9.3s\n",
      "[CV] END .........................C=0.1, gamma=1, kernel=rbf; total time=  15.7s\n",
      "[CV] END ....................C=0.1, gamma=0.0001, kernel=rbf; total time=  14.5s\n",
      "[CV] END ......................C=1, gamma=0.1, kernel=linear; total time=   3.1s\n",
      "[CV] END .........................C=1, gamma=0.1, kernel=rbf; total time=   4.0s\n",
      "[CV] END .......................C=1, gamma=0.001, kernel=rbf; total time=  12.7s\n",
      "[CV] END .......................C=10, gamma=1, kernel=linear; total time=   3.3s\n",
      "[CV] END .....................C=10, gamma=0.1, kernel=linear; total time=   3.0s\n",
      "[CV] END ........................C=10, gamma=0.1, kernel=rbf; total time=   3.5s\n",
      "[CV] END ...................C=10, gamma=0.001, kernel=linear; total time=   3.1s\n",
      "[CV] END ..................C=10, gamma=0.0001, kernel=linear; total time=   3.2s\n",
      "[CV] END .....................C=10, gamma=0.0001, kernel=rbf; total time=   4.8s\n",
      "[CV] END .........................C=0.1, gamma=1, kernel=rbf; total time=  15.7s\n",
      "[CV] END ....................C=0.1, gamma=0.0001, kernel=rbf; total time=  14.4s\n",
      "[CV] END ......................C=1, gamma=0.1, kernel=linear; total time=   3.2s\n",
      "[CV] END .........................C=1, gamma=0.1, kernel=rbf; total time=   3.9s\n",
      "[CV] END ....................C=1, gamma=0.001, kernel=linear; total time=   3.2s\n",
      "[CV] END ...................C=1, gamma=0.0001, kernel=linear; total time=   3.2s\n",
      "[CV] END .......................C=10, gamma=1, kernel=linear; total time=   3.4s\n",
      "[CV] END .......................C=10, gamma=1, kernel=linear; total time=   3.1s\n",
      "[CV] END ..........................C=10, gamma=1, kernel=rbf; total time=  13.0s\n",
      "[CV] END .....................C=10, gamma=0.0001, kernel=rbf; total time=   6.9s\n",
      "[CV] END ....................C=0.1, gamma=0.1, kernel=linear; total time=   7.5s\n",
      "[CV] END .......................C=0.1, gamma=0.1, kernel=rbf; total time=  13.0s\n",
      "[CV] END ....................C=0.1, gamma=0.0001, kernel=rbf; total time=  16.2s\n",
      "[CV] END ......................C=1, gamma=0.1, kernel=linear; total time=   3.6s\n",
      "[CV] END .........................C=1, gamma=0.1, kernel=rbf; total time=   6.1s\n",
      "[CV] END ...................C=1, gamma=0.0001, kernel=linear; total time=   3.6s\n",
      "[CV] END .......................C=10, gamma=1, kernel=linear; total time=   3.4s\n",
      "[CV] END .......................C=10, gamma=1, kernel=linear; total time=   3.1s\n",
      "[CV] END .......................C=10, gamma=1, kernel=linear; total time=   3.2s\n",
      "[CV] END .....................C=10, gamma=0.1, kernel=linear; total time=   3.1s\n",
      "[CV] END ........................C=10, gamma=0.1, kernel=rbf; total time=   3.7s\n",
      "[CV] END ......................C=10, gamma=0.001, kernel=rbf; total time=   8.9s\n",
      "[CV] END ......................C=0.1, gamma=1, kernel=linear; total time=   3.9s\n",
      "[CV] END .......................C=0.1, gamma=0.1, kernel=rbf; total time=   8.5s\n",
      "[CV] END ..................C=0.1, gamma=0.001, kernel=linear; total time=   3.8s\n",
      "[CV] END ....................C=0.1, gamma=0.0001, kernel=rbf; total time=  14.5s\n",
      "[CV] END ......................C=1, gamma=0.1, kernel=linear; total time=   3.2s\n",
      "[CV] END .........................C=1, gamma=0.1, kernel=rbf; total time=   4.0s\n",
      "[CV] END ....................C=1, gamma=0.001, kernel=linear; total time=   3.2s\n",
      "[CV] END ...................C=1, gamma=0.0001, kernel=linear; total time=   3.2s\n",
      "[CV] END .......................C=10, gamma=1, kernel=linear; total time=   3.4s\n",
      "[CV] END .......................C=10, gamma=1, kernel=linear; total time=   3.3s\n",
      "[CV] END ..........................C=10, gamma=1, kernel=rbf; total time=  12.9s\n",
      "[CV] END ..................C=10, gamma=0.0001, kernel=linear; total time=   3.3s\n",
      "[CV] END ......................C=0.1, gamma=1, kernel=linear; total time=   3.1s\n",
      "[CV] END ....................C=0.1, gamma=0.1, kernel=linear; total time=   4.5s\n",
      "[CV] END .......................C=0.1, gamma=0.1, kernel=rbf; total time=   8.0s\n",
      "[CV] END .....................C=0.1, gamma=0.001, kernel=rbf; total time=  14.5s\n",
      "[CV] END ...........................C=1, gamma=1, kernel=rbf; total time=  13.3s\n",
      "[CV] END ......................C=1, gamma=0.0001, kernel=rbf; total time=  13.9s\n",
      "[CV] END ........................C=10, gamma=0.1, kernel=rbf; total time=   3.5s\n",
      "[CV] END ...................C=10, gamma=0.001, kernel=linear; total time=   3.1s\n",
      "[CV] END .....................C=10, gamma=0.0001, kernel=rbf; total time=   6.8s\n",
      "[CV] END .........................C=0.1, gamma=1, kernel=rbf; total time=  12.9s\n",
      "[CV] END ..................C=0.1, gamma=0.001, kernel=linear; total time=   7.7s\n",
      "[CV] END .................C=0.1, gamma=0.0001, kernel=linear; total time=   5.9s\n",
      "[CV] END ........................C=1, gamma=1, kernel=linear; total time=   4.7s\n",
      "[CV] END ........................C=1, gamma=1, kernel=linear; total time=   3.9s\n",
      "[CV] END ...........................C=1, gamma=1, kernel=rbf; total time=   7.4s\n",
      "[CV] END ....................C=1, gamma=0.001, kernel=linear; total time=   3.8s\n",
      "[CV] END .......................C=1, gamma=0.001, kernel=rbf; total time=  14.4s\n",
      "[CV] END .....................C=10, gamma=0.1, kernel=linear; total time=   3.1s\n",
      "[CV] END .....................C=10, gamma=0.1, kernel=linear; total time=   3.0s\n",
      "[CV] END ...................C=10, gamma=0.001, kernel=linear; total time=   3.1s\n",
      "[CV] END ..................C=10, gamma=0.0001, kernel=linear; total time=   3.2s\n",
      "[CV] END ......................C=0.1, gamma=1, kernel=linear; total time=   4.1s\n",
      "[CV] END .......................C=0.1, gamma=0.1, kernel=rbf; total time=   8.4s\n",
      "[CV] END .....................C=0.1, gamma=0.001, kernel=rbf; total time=  14.6s\n",
      "[CV] END ...........................C=1, gamma=1, kernel=rbf; total time=  13.2s\n",
      "[CV] END ...................C=1, gamma=0.0001, kernel=linear; total time=   3.2s\n",
      "[CV] END ......................C=1, gamma=0.0001, kernel=rbf; total time=  13.8s\n",
      "[CV] END ........................C=10, gamma=0.1, kernel=rbf; total time=   3.5s\n",
      "[CV] END ...................C=10, gamma=0.001, kernel=linear; total time=   3.2s\n",
      "[CV] END ......................C=10, gamma=0.001, kernel=rbf; total time=   5.3s\n",
      "[CV] END ......................C=0.1, gamma=1, kernel=linear; total time=   3.4s\n",
      "[CV] END ....................C=0.1, gamma=0.1, kernel=linear; total time=   4.4s\n",
      "[CV] END ..................C=0.1, gamma=0.001, kernel=linear; total time=   4.0s\n",
      "[CV] END ..................C=0.1, gamma=0.001, kernel=linear; total time=   3.9s\n",
      "[CV] END .................C=0.1, gamma=0.0001, kernel=linear; total time=   4.1s\n",
      "[CV] END ....................C=0.1, gamma=0.0001, kernel=rbf; total time=  14.4s\n",
      "[CV] END .........................C=1, gamma=0.1, kernel=rbf; total time=   4.0s\n",
      "[CV] END .......................C=1, gamma=0.001, kernel=rbf; total time=  12.5s\n",
      "[CV] END ..........................C=10, gamma=1, kernel=rbf; total time=  12.9s\n",
      "[CV] END ..................C=10, gamma=0.0001, kernel=linear; total time=   3.1s\n",
      "[CV] END .....................C=10, gamma=0.0001, kernel=rbf; total time=   4.8s\n",
      "[CV] END .........................C=0.1, gamma=1, kernel=rbf; total time=  12.7s\n",
      "[CV] END ..................C=0.1, gamma=0.001, kernel=linear; total time=   7.7s\n",
      "[CV] END .................C=0.1, gamma=0.0001, kernel=linear; total time=   5.8s\n",
      "[CV] END ....................C=0.1, gamma=0.0001, kernel=rbf; total time=  15.4s\n",
      "[CV] END ....................C=1, gamma=0.001, kernel=linear; total time=   3.8s\n",
      "[CV] END .......................C=1, gamma=0.001, kernel=rbf; total time=  14.4s\n",
      "[CV] END ..........................C=10, gamma=1, kernel=rbf; total time=   8.9s\n",
      "[CV] END ..................C=10, gamma=0.0001, kernel=linear; total time=   3.2s\n",
      "[CV] END .....................C=10, gamma=0.0001, kernel=rbf; total time=   7.7s\n",
      "[CV] END ......................C=0.1, gamma=1, kernel=linear; total time=   3.8s\n",
      "[CV] END ....................C=0.1, gamma=0.1, kernel=linear; total time=   4.1s\n",
      "[CV] END ..................C=0.1, gamma=0.001, kernel=linear; total time=   4.4s\n",
      "[CV] END ..................C=0.1, gamma=0.001, kernel=linear; total time=   3.7s\n",
      "[CV] END .................C=0.1, gamma=0.0001, kernel=linear; total time=   4.2s\n",
      "[CV] END ........................C=1, gamma=1, kernel=linear; total time=   3.1s\n",
      "[CV] END ........................C=1, gamma=1, kernel=linear; total time=   3.0s\n",
      "[CV] END ...........................C=1, gamma=1, kernel=rbf; total time=  13.2s\n",
      "[CV] END .......................C=1, gamma=0.001, kernel=rbf; total time=  12.2s\n",
      "[CV] END .....................C=10, gamma=0.1, kernel=linear; total time=   3.1s\n",
      "[CV] END .....................C=10, gamma=0.1, kernel=linear; total time=   3.4s\n",
      "[CV] END ...................C=10, gamma=0.001, kernel=linear; total time=   3.1s\n",
      "[CV] END ......................C=10, gamma=0.001, kernel=rbf; total time=   6.2s\n",
      "[CV] END .........................C=0.1, gamma=1, kernel=rbf; total time=  15.6s\n",
      "[CV] END ....................C=0.1, gamma=0.0001, kernel=rbf; total time=  14.6s\n",
      "[CV] END ......................C=1, gamma=0.1, kernel=linear; total time=   3.2s\n",
      "[CV] END .........................C=1, gamma=0.1, kernel=rbf; total time=   3.9s\n",
      "[CV] END .......................C=1, gamma=0.001, kernel=rbf; total time=  12.5s\n",
      "[CV] END .......................C=10, gamma=1, kernel=linear; total time=   3.4s\n",
      "[CV] END .....................C=10, gamma=0.1, kernel=linear; total time=   3.1s\n",
      "[CV] END ........................C=10, gamma=0.1, kernel=rbf; total time=   3.4s\n",
      "[CV] END ...................C=10, gamma=0.001, kernel=linear; total time=   3.0s\n",
      "[CV] END ..................C=10, gamma=0.0001, kernel=linear; total time=   3.1s\n",
      "[CV] END .....................C=10, gamma=0.0001, kernel=rbf; total time=   4.7s\n",
      "[CV] END .........................C=0.1, gamma=1, kernel=rbf; total time=  12.8s\n",
      "[CV] END ..................C=0.1, gamma=0.001, kernel=linear; total time=   7.7s\n",
      "[CV] END .................C=0.1, gamma=0.0001, kernel=linear; total time=   5.8s\n",
      "[CV] END ....................C=0.1, gamma=0.0001, kernel=rbf; total time=  15.3s\n",
      "[CV] END .........................C=1, gamma=0.1, kernel=rbf; total time=   6.1s\n",
      "[CV] END ......................C=1, gamma=0.0001, kernel=rbf; total time=  14.2s\n",
      "[CV] END .....................C=10, gamma=0.1, kernel=linear; total time=   3.3s\n",
      "[CV] END ........................C=10, gamma=0.1, kernel=rbf; total time=   3.6s\n",
      "[CV] END ..................C=10, gamma=0.0001, kernel=linear; total time=   3.2s\n",
      "[CV] END .....................C=10, gamma=0.0001, kernel=rbf; total time=   7.8s\n",
      "[CV] END .........................C=0.1, gamma=1, kernel=rbf; total time=  15.5s\n",
      "[CV] END .....................C=0.1, gamma=0.001, kernel=rbf; total time=  14.4s\n",
      "[CV] END ......................C=1, gamma=0.1, kernel=linear; total time=   3.2s\n",
      "[CV] END ......................C=1, gamma=0.1, kernel=linear; total time=   2.9s\n",
      "[CV] END ....................C=1, gamma=0.001, kernel=linear; total time=   3.1s\n",
      "[CV] END .......................C=1, gamma=0.001, kernel=rbf; total time=  12.5s\n",
      "[CV] END ..........................C=10, gamma=1, kernel=rbf; total time=  12.8s\n",
      "[CV] END ..................C=10, gamma=0.0001, kernel=linear; total time=   3.4s\n",
      "[CV] END .........................C=0.1, gamma=1, kernel=rbf; total time=  15.5s\n",
      "[CV] END .....................C=0.1, gamma=0.001, kernel=rbf; total time=  14.5s\n",
      "[CV] END ......................C=1, gamma=0.1, kernel=linear; total time=   3.0s\n",
      "[CV] END .........................C=1, gamma=0.1, kernel=rbf; total time=   4.0s\n",
      "[CV] END ....................C=1, gamma=0.001, kernel=linear; total time=   3.2s\n",
      "[CV] END ...................C=1, gamma=0.0001, kernel=linear; total time=   3.2s\n",
      "[CV] END ......................C=1, gamma=0.0001, kernel=rbf; total time=  13.8s\n",
      "[CV] END ........................C=10, gamma=0.1, kernel=rbf; total time=   3.4s\n",
      "[CV] END ...................C=10, gamma=0.001, kernel=linear; total time=   3.0s\n",
      "[CV] END ..................C=10, gamma=0.0001, kernel=linear; total time=   3.4s\n",
      "[CV] END .....................C=10, gamma=0.0001, kernel=rbf; total time=   4.3s\n"
     ]
    }
   ],
   "source": [
    "dill.dump_session('./svm_context.db')"
   ]
  }
 ],
 "metadata": {
  "kernelspec": {
   "display_name": "Python 3 (ipykernel)",
   "language": "python",
   "name": "python3"
  },
  "language_info": {
   "codemirror_mode": {
    "name": "ipython",
    "version": 3
   },
   "file_extension": ".py",
   "mimetype": "text/x-python",
   "name": "python",
   "nbconvert_exporter": "python",
   "pygments_lexer": "ipython3",
   "version": "3.8.8"
  }
 },
 "nbformat": 4,
 "nbformat_minor": 5
}
