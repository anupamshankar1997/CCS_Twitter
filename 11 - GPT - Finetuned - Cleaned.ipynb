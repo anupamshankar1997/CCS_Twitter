{
 "cells": [
  {
   "cell_type": "markdown",
   "id": "4c16e22c-a64e-494a-a488-ea1fa3c6656a",
   "metadata": {},
   "source": [
    "<h1>Fine tuning GPT-3 Model<h1>\n",
    "    <h5>We try to Fine tune OpenAI's GPT-3 models (Ada and Curie) using cleaned tweets to classify tweets related to CCS<h5>"
   ]
  },
  {
   "cell_type": "code",
   "execution_count": 1,
   "id": "3c57db86-fb59-4477-ab26-45d3f4e2aa12",
   "metadata": {
    "tags": []
   },
   "outputs": [],
   "source": [
    "#importing libraires \n",
    "from sklearn.metrics import confusion_matrix\n",
    "from sklearn.model_selection import train_test_split\n",
    "import pandas as pd\n",
    "import numpy as np\n",
    "import openai\n",
    "from sklearn import metrics\n",
    "import matplotlib.pyplot as plt"
   ]
  },
  {
   "cell_type": "code",
   "execution_count": 4,
   "id": "f1fd1244-cb9e-4598-97cc-a543b459b8c8",
   "metadata": {
    "tags": []
   },
   "outputs": [],
   "source": [
    "#load cleaned tweets dataset\n",
    "train_df = pd.read_pickle('./train_df_cleaned.pkl')\n",
    "test_df = pd.read_pickle('./test_df_cleaned.pkl')"
   ]
  },
  {
   "cell_type": "code",
   "execution_count": 5,
   "id": "96e25ec3-b845-4089-9a9e-f0dbcb19a6fb",
   "metadata": {
    "tags": []
   },
   "outputs": [],
   "source": [
    "#Add text labels (since GPT is languge based model)\n",
    "train_df['label'] = train_df['related_manual'].map({0:'Other',1:'Carbon Capture, Usage and Storage'})\n",
    "test_df['label'] = test_df['related_manual'].map({0:'Other',1:'Carbon Capture, Usage and Storage'})"
   ]
  },
  {
   "cell_type": "code",
   "execution_count": 6,
   "id": "7256c830-560c-4056-862a-0991db966ab7",
   "metadata": {
    "tags": []
   },
   "outputs": [
    {
     "data": {
      "text/plain": [
       "label\n",
       "Carbon Capture, Usage and Storage    1000\n",
       "Other                                1000\n",
       "Name: count, dtype: int64"
      ]
     },
     "execution_count": 6,
     "metadata": {},
     "output_type": "execute_result"
    }
   ],
   "source": [
    "train_df['label'].value_counts()"
   ]
  },
  {
   "cell_type": "code",
   "execution_count": 7,
   "id": "58fcdff0-9e6e-4cfa-8c2d-a132916784d2",
   "metadata": {
    "tags": []
   },
   "outputs": [
    {
     "data": {
      "text/plain": [
       "label\n",
       "Carbon Capture, Usage and Storage    250\n",
       "Other                                250\n",
       "Name: count, dtype: int64"
      ]
     },
     "execution_count": 7,
     "metadata": {},
     "output_type": "execute_result"
    }
   ],
   "source": [
    "test_df['label'].value_counts()"
   ]
  },
  {
   "cell_type": "code",
   "execution_count": 8,
   "id": "7c6e886e-e1a2-409a-b233-887fe21eaca8",
   "metadata": {
    "tags": []
   },
   "outputs": [],
   "source": [
    "#Change columns names for matching finetuning format \n",
    "train_data = pd.DataFrame({'prompt':train_df.tweet_preprocessed,'completion':train_df.label})\n",
    "test_data = pd.DataFrame({'prompt':test_df.tweet_preprocessed,'completion':test_df.label})"
   ]
  },
  {
   "cell_type": "code",
   "execution_count": 16,
   "id": "74437606-e936-4627-9773-9674d77325f4",
   "metadata": {
    "tags": []
   },
   "outputs": [
    {
     "data": {
      "text/html": [
       "<div>\n",
       "<style scoped>\n",
       "    .dataframe tbody tr th:only-of-type {\n",
       "        vertical-align: middle;\n",
       "    }\n",
       "\n",
       "    .dataframe tbody tr th {\n",
       "        vertical-align: top;\n",
       "    }\n",
       "\n",
       "    .dataframe thead th {\n",
       "        text-align: right;\n",
       "    }\n",
       "</style>\n",
       "<table border=\"1\" class=\"dataframe\">\n",
       "  <thead>\n",
       "    <tr style=\"text-align: right;\">\n",
       "      <th></th>\n",
       "      <th>prompt</th>\n",
       "      <th>completion</th>\n",
       "    </tr>\n",
       "  </thead>\n",
       "  <tbody>\n",
       "    <tr>\n",
       "      <th>0</th>\n",
       "      <td>nonelectricfuel mowers2 dont mow let wild lown...</td>\n",
       "      <td>Carbon Capture, Usage and Storage</td>\n",
       "    </tr>\n",
       "    <tr>\n",
       "      <th>1</th>\n",
       "      <td>youll need explain carbon sink comment commerc...</td>\n",
       "      <td>Carbon Capture, Usage and Storage</td>\n",
       "    </tr>\n",
       "    <tr>\n",
       "      <th>2</th>\n",
       "      <td>excellent clip simon yes difficult value maybe...</td>\n",
       "      <td>Carbon Capture, Usage and Storage</td>\n",
       "    </tr>\n",
       "    <tr>\n",
       "      <th>3</th>\n",
       "      <td>looking different habitats provide stack biodi...</td>\n",
       "      <td>Carbon Capture, Usage and Storage</td>\n",
       "    </tr>\n",
       "    <tr>\n",
       "      <th>4</th>\n",
       "      <td>carbon sequestration calcs opportunities orgs ...</td>\n",
       "      <td>Carbon Capture, Usage and Storage</td>\n",
       "    </tr>\n",
       "    <tr>\n",
       "      <th>...</th>\n",
       "      <td>...</td>\n",
       "      <td>...</td>\n",
       "    </tr>\n",
       "    <tr>\n",
       "      <th>1995</th>\n",
       "      <td>ge manifesto prioritise brownfield sites prote...</td>\n",
       "      <td>Other</td>\n",
       "    </tr>\n",
       "    <tr>\n",
       "      <th>1996</th>\n",
       "      <td>responsible suppliers maintaining forestland f...</td>\n",
       "      <td>Carbon Capture, Usage and Storage</td>\n",
       "    </tr>\n",
       "    <tr>\n",
       "      <th>1997</th>\n",
       "      <td>minister forestry environment siti nuraya baka...</td>\n",
       "      <td>Other</td>\n",
       "    </tr>\n",
       "    <tr>\n",
       "      <th>1998</th>\n",
       "      <td>good luck opposing today terrible foothold dis...</td>\n",
       "      <td>Other</td>\n",
       "    </tr>\n",
       "    <tr>\n",
       "      <th>1999</th>\n",
       "      <td>environmentally sound obviously greenwashing c...</td>\n",
       "      <td>Other</td>\n",
       "    </tr>\n",
       "  </tbody>\n",
       "</table>\n",
       "<p>2000 rows × 2 columns</p>\n",
       "</div>"
      ],
      "text/plain": [
       "                                                 prompt  \\\n",
       "0     nonelectricfuel mowers2 dont mow let wild lown...   \n",
       "1     youll need explain carbon sink comment commerc...   \n",
       "2     excellent clip simon yes difficult value maybe...   \n",
       "3     looking different habitats provide stack biodi...   \n",
       "4     carbon sequestration calcs opportunities orgs ...   \n",
       "...                                                 ...   \n",
       "1995  ge manifesto prioritise brownfield sites prote...   \n",
       "1996  responsible suppliers maintaining forestland f...   \n",
       "1997  minister forestry environment siti nuraya baka...   \n",
       "1998  good luck opposing today terrible foothold dis...   \n",
       "1999  environmentally sound obviously greenwashing c...   \n",
       "\n",
       "                             completion  \n",
       "0     Carbon Capture, Usage and Storage  \n",
       "1     Carbon Capture, Usage and Storage  \n",
       "2     Carbon Capture, Usage and Storage  \n",
       "3     Carbon Capture, Usage and Storage  \n",
       "4     Carbon Capture, Usage and Storage  \n",
       "...                                 ...  \n",
       "1995                              Other  \n",
       "1996  Carbon Capture, Usage and Storage  \n",
       "1997                              Other  \n",
       "1998                              Other  \n",
       "1999                              Other  \n",
       "\n",
       "[2000 rows x 2 columns]"
      ]
     },
     "execution_count": 16,
     "metadata": {},
     "output_type": "execute_result"
    }
   ],
   "source": [
    "train_data"
   ]
  },
  {
   "cell_type": "code",
   "execution_count": 9,
   "id": "3a3761e9-043e-4df6-8a70-a641a2339229",
   "metadata": {
    "tags": []
   },
   "outputs": [
    {
     "data": {
      "text/plain": [
       "completion\n",
       "Carbon Capture, Usage and Storage    250\n",
       "Other                                250\n",
       "Name: count, dtype: int64"
      ]
     },
     "execution_count": 9,
     "metadata": {},
     "output_type": "execute_result"
    }
   ],
   "source": [
    "test_data['completion'].value_counts()"
   ]
  },
  {
   "cell_type": "code",
   "execution_count": 10,
   "id": "75e41d23-8b63-429f-b7f8-c937d7bb65a0",
   "metadata": {
    "tags": []
   },
   "outputs": [],
   "source": [
    "#Save as json files\n",
    "train_data.to_json(\"./train_cleaned.jsonl\", orient='records', lines=True)\n",
    "test_data.to_json(\"./test_cleaned.jsonl\", orient='records', lines=True)"
   ]
  },
  {
   "cell_type": "code",
   "execution_count": 12,
   "id": "f1758196-4ab7-46ad-a04e-b161dba0a2ad",
   "metadata": {
    "tags": []
   },
   "outputs": [
    {
     "name": "stdout",
     "output_type": "stream",
     "text": [
      "{\n",
      "  \"object\": \"file\",\n",
      "  \"id\": \"file-vNcVYVnfeCGg2gJPDlfICSJR\",\n",
      "  \"purpose\": \"fine-tune\",\n",
      "  \"filename\": \"file\",\n",
      "  \"bytes\": 303191,\n",
      "  \"created_at\": 1692015209,\n",
      "  \"status\": \"uploaded\",\n",
      "  \"status_details\": null\n",
      "}\n"
     ]
    }
   ],
   "source": [
    "#helper to create training file instance\n",
    "def create_training_file(file_path):\n",
    "    file = openai.File.create(\n",
    "        file=open(file_path, \"rb\"),\n",
    "        purpose='fine-tune'\n",
    "    )\n",
    "    return file\n",
    "\n",
    "training_file_cleaned = create_training_file(\"./train_cleaned_prepared.jsonl\")\n",
    "print(training_file_cleaned)"
   ]
  },
  {
   "cell_type": "code",
   "execution_count": 14,
   "id": "3ecd5a3b-23ef-4e80-9d4d-215c3723d568",
   "metadata": {
    "tags": []
   },
   "outputs": [],
   "source": [
    "#create fine tuning job for Ada model\n",
    "fine_tuned_model_1 = openai.FineTune.create(training_file = training_file_cleaned['id'], \n",
    "                                            model = \"ada\", \n",
    "                                            n_epochs = 4,\n",
    "                                            prompt_loss_weight=0.01,\n",
    "                                            learning_rate_multiplier=0.1,\n",
    "                                            suffix=\"cleaned_14-Aug_ada\")"
   ]
  },
  {
   "cell_type": "code",
   "execution_count": 13,
   "id": "0a2ae078-14b1-42b7-ac8a-b8e7e69f6995",
   "metadata": {
    "tags": []
   },
   "outputs": [],
   "source": [
    "#create fine tuning job for Curie model\n",
    "fine_tuned_model_2 = openai.FineTune.create(training_file = training_file_cleaned['id'], \n",
    "                                            model = \"curie\", \n",
    "                                            n_epochs = 4,\n",
    "                                            prompt_loss_weight=0.01,\n",
    "                                            learning_rate_multiplier=0.1,\n",
    "                                            suffix=\"cleaned_01-Aug_curie\")"
   ]
  },
  {
   "cell_type": "code",
   "execution_count": 19,
   "id": "df20ec6b-85af-46a2-bf13-c6310e152c2e",
   "metadata": {
    "tags": []
   },
   "outputs": [],
   "source": [
    "#helper to predict\n",
    "def predict(test_data, model_name):\n",
    "    preds = []\n",
    "    for item, row in test_data.iterrows():\n",
    "        tweet = row['prompt']\n",
    "        res = openai.Completion.create(model=model_name, prompt=tweet, max_tokens=1, temperature=0, logprobs=2)\n",
    "        prediction = res['choices'][0]['text']\n",
    "        if prediction==' Carbon':\n",
    "            preds.append(1)\n",
    "        else:\n",
    "            preds.append(0)\n",
    "    return preds"
   ]
  },
  {
   "cell_type": "code",
   "execution_count": 18,
   "id": "0249c934-4fb2-4273-8a2b-cac35b15cc9c",
   "metadata": {
    "tags": []
   },
   "outputs": [],
   "source": [
    "#helper to generate performance report\n",
    "def performance(y_true,y_predict):\n",
    "    TP = confusion_matrix(y_true,y_predict)[0,0]\n",
    "    FP = confusion_matrix(y_true,y_predict)[0,1]\n",
    "    TN = confusion_matrix(y_true,y_predict)[1,1]\n",
    "    FN = confusion_matrix(y_true,y_predict)[1,0]\n",
    "    TN, FP, FN, TP = confusion_matrix(y_true,y_predict).ravel()\n",
    "    print(f\"Accuracy: {round(((TP+TN)/(TP+TN+FP+FN))*100,3)}%\")\n",
    "    precision = round((TP/(TP+ FP))*100,3)\n",
    "    recall = round((TP/(TP+ FN))*100,3)\n",
    "    print(confusion_matrix(y_true,y_predict,labels=[1,0]).ravel())\n",
    "    print(f\"TP: {TP}\")\n",
    "    print(f\"FP: {FP}\")\n",
    "    print(f\"TN: {TN}\")\n",
    "    print(f\"FN: {FN}\")\n",
    "    print(f\"Sensitivity: {round((TP/(TP+ FN))*100,3)}%\")\n",
    "    print(f\"Specificity: {round((TN/(TN + FP))*100,3)}%\")\n",
    "    print(f\"Precision: {precision}%\")\n",
    "    print(f\"Recall: {recall}%\")\n",
    "    print(f\"f1: {round(((2*precision*recall)/(precision+recall)),3)}%\")\n",
    "    cm_display = metrics.ConfusionMatrixDisplay(confusion_matrix(y_true,y_predict,labels=[1,0]), display_labels=[1,0])\n",
    "    cm_display.plot()\n",
    "    plt.show()\n",
    "    \n",
    "    false_positive_rate, true_positive_rate, thresholds = metrics.roc_curve(y_true,y_predict)\n",
    "    print(thresholds)\n",
    "    area = metrics.auc(false_positive_rate, true_positive_rate)\n",
    "    plt.figure()\n",
    "    plt.plot(false_positive_rate, true_positive_rate, color='green', lw=2, label=f'ROC curve (Area Under Curve = {area:.2f})')\n",
    "    plt.plot([0, 1], [0, 1], color='blue', lw=2, linestyle='--')\n",
    "    plt.xlim([0.0, 1.0])\n",
    "    plt.ylim([0.0, 1.05])\n",
    "    plt.xlabel('False Positive Rate (FPR)')\n",
    "    plt.ylabel('True Positive Rate (TPR)')\n",
    "    plt.title('Receiver Operating Characteristic (ROC) Curve')\n",
    "    plt.legend(loc=\"lower right\")\n",
    "    plt.show()"
   ]
  },
  {
   "cell_type": "code",
   "execution_count": 22,
   "id": "ef748f41-0907-49ad-ad4d-c1080993c94f",
   "metadata": {
    "tags": []
   },
   "outputs": [],
   "source": [
    "#JSON files retrieving\n",
    "test_data_cleaned = pd.read_json(\"./test_cleaned_prepared.jsonl\", orient='records', lines=True)"
   ]
  },
  {
   "cell_type": "code",
   "execution_count": 23,
   "id": "1e616510-10d7-49ed-93aa-336f38fa0142",
   "metadata": {
    "tags": []
   },
   "outputs": [
    {
     "data": {
      "text/html": [
       "<div>\n",
       "<style scoped>\n",
       "    .dataframe tbody tr th:only-of-type {\n",
       "        vertical-align: middle;\n",
       "    }\n",
       "\n",
       "    .dataframe tbody tr th {\n",
       "        vertical-align: top;\n",
       "    }\n",
       "\n",
       "    .dataframe thead th {\n",
       "        text-align: right;\n",
       "    }\n",
       "</style>\n",
       "<table border=\"1\" class=\"dataframe\">\n",
       "  <thead>\n",
       "    <tr style=\"text-align: right;\">\n",
       "      <th></th>\n",
       "      <th>prompt</th>\n",
       "      <th>completion</th>\n",
       "      <th>label_binary</th>\n",
       "    </tr>\n",
       "  </thead>\n",
       "  <tbody>\n",
       "    <tr>\n",
       "      <th>0</th>\n",
       "      <td>feb ground broken new bluecoat academy carring...</td>\n",
       "      <td>Carbon Capture, Usage and Storage</td>\n",
       "      <td>1</td>\n",
       "    </tr>\n",
       "    <tr>\n",
       "      <th>1</th>\n",
       "      <td>seagrass vital habitat cuttlefish species func...</td>\n",
       "      <td>Carbon Capture, Usage and Storage</td>\n",
       "      <td>1</td>\n",
       "    </tr>\n",
       "    <tr>\n",
       "      <th>2</th>\n",
       "      <td>know buying land improve biodiversity carbon s...</td>\n",
       "      <td>Carbon Capture, Usage and Storage</td>\n",
       "      <td>1</td>\n",
       "    </tr>\n",
       "    <tr>\n",
       "      <th>3</th>\n",
       "      <td>aye theres rub tradeoffs optimising annual car...</td>\n",
       "      <td>Carbon Capture, Usage and Storage</td>\n",
       "      <td>1</td>\n",
       "    </tr>\n",
       "    <tr>\n",
       "      <th>4</th>\n",
       "      <td>ccs knowledge sticking carbon capture fossil f...</td>\n",
       "      <td>Carbon Capture, Usage and Storage</td>\n",
       "      <td>1</td>\n",
       "    </tr>\n",
       "    <tr>\n",
       "      <th>...</th>\n",
       "      <td>...</td>\n",
       "      <td>...</td>\n",
       "      <td>...</td>\n",
       "    </tr>\n",
       "    <tr>\n",
       "      <th>495</th>\n",
       "      <td>absolutely silos getting deepertotal new envir...</td>\n",
       "      <td>Other</td>\n",
       "      <td>0</td>\n",
       "    </tr>\n",
       "    <tr>\n",
       "      <th>496</th>\n",
       "      <td>total waste time year olds regimented learning...</td>\n",
       "      <td>Other</td>\n",
       "      <td>0</td>\n",
       "    </tr>\n",
       "    <tr>\n",
       "      <th>497</th>\n",
       "      <td>bp needs resolve environmental issues goes phi...</td>\n",
       "      <td>Other</td>\n",
       "      <td>0</td>\n",
       "    </tr>\n",
       "    <tr>\n",
       "      <th>498</th>\n",
       "      <td>watched blues leicester game defensive shift c...</td>\n",
       "      <td>Other</td>\n",
       "      <td>0</td>\n",
       "    </tr>\n",
       "    <tr>\n",
       "      <th>499</th>\n",
       "      <td>manifesto tackles climate environment emergenc...</td>\n",
       "      <td>Other</td>\n",
       "      <td>0</td>\n",
       "    </tr>\n",
       "  </tbody>\n",
       "</table>\n",
       "<p>500 rows × 3 columns</p>\n",
       "</div>"
      ],
      "text/plain": [
       "                                                prompt  \\\n",
       "0    feb ground broken new bluecoat academy carring...   \n",
       "1    seagrass vital habitat cuttlefish species func...   \n",
       "2    know buying land improve biodiversity carbon s...   \n",
       "3    aye theres rub tradeoffs optimising annual car...   \n",
       "4    ccs knowledge sticking carbon capture fossil f...   \n",
       "..                                                 ...   \n",
       "495  absolutely silos getting deepertotal new envir...   \n",
       "496  total waste time year olds regimented learning...   \n",
       "497  bp needs resolve environmental issues goes phi...   \n",
       "498  watched blues leicester game defensive shift c...   \n",
       "499  manifesto tackles climate environment emergenc...   \n",
       "\n",
       "                             completion  label_binary  \n",
       "0     Carbon Capture, Usage and Storage             1  \n",
       "1     Carbon Capture, Usage and Storage             1  \n",
       "2     Carbon Capture, Usage and Storage             1  \n",
       "3     Carbon Capture, Usage and Storage             1  \n",
       "4     Carbon Capture, Usage and Storage             1  \n",
       "..                                  ...           ...  \n",
       "495                               Other             0  \n",
       "496                               Other             0  \n",
       "497                               Other             0  \n",
       "498                               Other             0  \n",
       "499                               Other             0  \n",
       "\n",
       "[500 rows x 3 columns]"
      ]
     },
     "execution_count": 23,
     "metadata": {},
     "output_type": "execute_result"
    }
   ],
   "source": [
    "#Mapping back to 0 and 1 for performance report generation\n",
    "test_data_cleaned['label_binary'] = test_data_cleaned['completion'].map({' Other':0,' Carbon Capture, Usage and Storage':1})\n",
    "test_data_cleaned "
   ]
  },
  {
   "cell_type": "code",
   "execution_count": 24,
   "id": "86826845-d1ed-4926-b180-3fc969c63c63",
   "metadata": {
    "tags": []
   },
   "outputs": [
    {
     "name": "stdout",
     "output_type": "stream",
     "text": [
      "CPU times: user 1.2 s, sys: 209 ms, total: 1.4 s\n",
      "Wall time: 2min 1s\n"
     ]
    }
   ],
   "source": [
    "%%time\n",
    "#ada predictions\n",
    "predictions_ada = predict(test_data_cleaned,\"ada:ft-heriot-watt-university:cleaned-14-aug-ada-2023-08-14-12-38-28\")"
   ]
  },
  {
   "cell_type": "code",
   "execution_count": 25,
   "id": "bf65cd25-2e7d-471e-b0dc-fe1ed576e3c4",
   "metadata": {
    "tags": []
   },
   "outputs": [
    {
     "name": "stdout",
     "output_type": "stream",
     "text": [
      "Accuracy: 95.0%\n",
      "[244   6  19 231]\n",
      "TP: 244\n",
      "FP: 19\n",
      "TN: 231\n",
      "FN: 6\n",
      "Sensitivity: 97.6%\n",
      "Specificity: 92.4%\n",
      "Precision: 92.776%\n",
      "Recall: 97.6%\n",
      "f1: 95.127%\n"
     ]
    },
    {
     "data": {
      "image/png": "[encoded data removed]",
      "text/plain": [
       "<Figure size 640x480 with 2 Axes>"
      ]
     },
     "metadata": {},
     "output_type": "display_data"
    },
    {
     "name": "stdout",
     "output_type": "stream",
     "text": [
      "[inf  1.  0.]\n"
     ]
    },
    {
     "data": {
      "image/png": "[encoded data removed]",
      "text/plain": [
       "<Figure size 640x480 with 1 Axes>"
      ]
     },
     "metadata": {},
     "output_type": "display_data"
    }
   ],
   "source": [
    "#Ada performance report\n",
    "performance(test_data_cleaned['label_binary'],predictions_ada)"
   ]
  },
  {
   "cell_type": "code",
   "execution_count": 26,
   "id": "fc680c13-c0b5-4dd9-aa64-4ac30e712215",
   "metadata": {},
   "outputs": [
    {
     "name": "stdout",
     "output_type": "stream",
     "text": [
      "CPU times: user 1.18 s, sys: 204 ms, total: 1.39 s\n",
      "Wall time: 2min 23s\n"
     ]
    }
   ],
   "source": [
    "%%time\n",
    "#Curie predictions\n",
    "predictions_curie = predict(test_data_cleaned,\"curie:ft-heriot-watt-university:cleaned-01-aug-curie-2023-08-14-12-31-57\")"
   ]
  },
  {
   "cell_type": "code",
   "execution_count": 27,
   "id": "9101c385-558b-41bb-8714-a8268b7a1ff6",
   "metadata": {
    "tags": []
   },
   "outputs": [
    {
     "name": "stdout",
     "output_type": "stream",
     "text": [
      "Accuracy: 94.8%\n",
      "[244   6  20 230]\n",
      "TP: 244\n",
      "FP: 20\n",
      "TN: 230\n",
      "FN: 6\n",
      "Sensitivity: 97.6%\n",
      "Specificity: 92.0%\n",
      "Precision: 92.424%\n",
      "Recall: 97.6%\n",
      "f1: 94.942%\n"
     ]
    },
    {
     "data": {
      "image/png": "[encoded data removed]",
      "text/plain": [
       "<Figure size 640x480 with 2 Axes>"
      ]
     },
     "metadata": {},
     "output_type": "display_data"
    },
    {
     "name": "stdout",
     "output_type": "stream",
     "text": [
      "[inf  1.  0.]\n"
     ]
    },
    {
     "data": {
      "image/png": "[encoded data removed]",
      "text/plain": [
       "<Figure size 640x480 with 1 Axes>"
      ]
     },
     "metadata": {},
     "output_type": "display_data"
    }
   ],
   "source": [
    "#Curie performance report\n",
    "performance(test_data_cleaned['label_binary'],predictions_curie)"
   ]
  },
  {
   "cell_type": "markdown",
   "id": "e7a02c19-5e49-4c48-bd99-996beb8cca19",
   "metadata": {},
   "source": [
    "<h2>Results<h2>\n",
    "    <h5>For clean tweets, both Ada and Curie performed almost identically only 1 extra tweet was misclassified by Curie.<h5>\n",
    "    "
   ]
  },
  {
   "cell_type": "markdown",
   "id": "a3565b11-9b32-4d2e-9dc8-3646f5de1343",
   "metadata": {},
   "source": [
    "| Model       | Accuracy | TP  | FP | TN  | FN | Sensitivity | Specificity | Precision | Recall | f1-score |\n",
    "|-------------|----------|-----|----|-----|----|-------------|-------------|-----------|--------|----------|\n",
    "| GPT - Ada   | 95.0%    | 244 | 19 | 231 | 6  | 97.6%       | 92.4%       | 92.776%   | 97.6%  | 95.127%  |\n",
    "| GPT - Curie | 94.8%    | 244 | 20 | 230 | 6  | 97.6%       | 92.0%       | 92.424%   | 97.6%  | 94.942%  |"
   ]
  }
 ],
 "metadata": {
  "kernelspec": {
   "display_name": "Python 3 (ipykernel)",
   "language": "python",
   "name": "python3"
  },
  "language_info": {
   "codemirror_mode": {
    "name": "ipython",
    "version": 3
   },
   "file_extension": ".py",
   "mimetype": "text/x-python",
   "name": "python",
   "nbconvert_exporter": "python",
   "pygments_lexer": "ipython3",
   "version": "3.8.8"
  }
 },
 "nbformat": 4,
 "nbformat_minor": 5
}
